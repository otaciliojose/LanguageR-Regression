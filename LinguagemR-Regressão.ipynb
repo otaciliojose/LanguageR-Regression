{
 "cells": [
  {
   "cell_type": "markdown",
   "metadata": {
    "executionInfo": {
     "elapsed": 437,
     "status": "ok",
     "timestamp": 1691505493874,
     "user": {
      "displayName": "Otacílio José Oliveira Fonseca",
      "userId": "11821168323875409957"
     },
     "user_tz": 180
    },
    "id": "F3cV4aad90MT"
   },
   "source": [
    "# Projeto de Previsão de Valor de Apartamento em Goiânia usando R\n",
    "\n",
    "\n",
    "# Objetivo Geral:\n",
    "\n",
    "Desenvolver um modelo de machine learning de regressão utilizando a linguagem R para prever o valor de apartamentos em Goiânia, com base em dados históricos e características relevantes.\n",
    "\n",
    "# Subobjetivos:\n",
    "\n",
    "#### Preparação de Dados:\n",
    "\n",
    "- Dados imobiliários de apartamentos em Goiânia, incluindo informações como área, número de quartos, endereço, etc. Realizar a limpeza e pré-processamento dos dados, tratando valores ausentes, duplicatas e outliers.\n",
    "\n",
    "#### Análise Exploratória de Dados (EDA):\n",
    "\n",
    "- Realizar visualizações estatísticas e gráficas para entender a distribuição dos dados.\n",
    "- Explorar a relação entre variáveis independentes e a variável alvo (valor do apartamento).\n",
    "- Identificar possíveis correlações e padrões nos dados.\n",
    "\n",
    "#### Modelagem de Machine Learning:\n",
    "\n",
    "- Dividir os dados em conjuntos de treinamento e validação.\n",
    "- Selecionar um ou mais algoritmos de regressão (por exemplo, regressão linear, árvore de decisão, regressão de floresta aleatória) para treinamento.\n",
    "- Treinar os modelos nos dados de treinamento e ajustar os hiperparâmetros conforme necessário.\n",
    "\n",
    "#### Avaliação e Seleção de Modelo:\n",
    "\n",
    "- Avaliar o desempenho dos modelos usando métricas de avaliação de regressão, como MSE (Erro Quadrático Médio) e R² (Coeficiente de Determinação).\n",
    "- Comparar o desempenho dos diferentes modelos e selecionar o melhor modelo com base nas métricas.\n",
    "\n",
    "### Resumo:\n",
    "\n",
    "- Pré-processamento de dados imobiliários de apartamentos em Goiânia.\n",
    "- Análise exploratória de dados para entender a distribuição e relações entre variáveis.\n",
    "- Treinamento e ajuste de modelos de regressão utilizando algoritmos de machine learning.\n",
    "- Avaliação e comparação de modelos com base em métricas de desempenho.\n",
    "- Implementação do modelo para previsões em tempo real e criação de uma interface de usuário.\n",
    "\n",
    "Este projeto visa criar um modelo capaz de prever o valor de apartamentos em Goiânia, fornecendo insights valiosos para compradores, vendedores e profissionais do mercado imobiliário.\n",
    "Dados extraídos no dia 07/08/2023."
   ]
  },
  {
   "cell_type": "markdown",
   "metadata": {
    "id": "Asue1MlfWEgZ"
   },
   "source": [
    "# Projeto:"
   ]
  },
  {
   "cell_type": "code",
   "execution_count": 1,
   "metadata": {
    "colab": {
     "base_uri": "https://localhost:8080/",
     "height": 286
    },
    "executionInfo": {
     "elapsed": 9,
     "status": "ok",
     "timestamp": 1691520270592,
     "user": {
      "displayName": "Otacílio José Oliveira Fonseca",
      "userId": "11821168323875409957"
     },
     "user_tz": 180
    },
    "id": "_gmnOlLUBkjh",
    "outputId": "f6aabd58-7cba-48d5-f30d-1c08a5c40d49"
   },
   "outputs": [
    {
     "data": {
      "text/html": [
       "<table class=\"dataframe\">\n",
       "<caption>A data.frame: 6 × 7</caption>\n",
       "<thead>\n",
       "\t<tr><th></th><th scope=col>nome</th><th scope=col>endereco</th><th scope=col>area</th><th scope=col>quartos</th><th scope=col>banheiros</th><th scope=col>garagem</th><th scope=col>preco</th></tr>\n",
       "\t<tr><th></th><th scope=col>&lt;chr&gt;</th><th scope=col>&lt;chr&gt;</th><th scope=col>&lt;chr&gt;</th><th scope=col>&lt;chr&gt;</th><th scope=col>&lt;chr&gt;</th><th scope=col>&lt;chr&gt;</th><th scope=col>&lt;chr&gt;</th></tr>\n",
       "</thead>\n",
       "<tbody>\n",
       "\t<tr><th scope=row>1</th><td>  Apartamento com 2 Quartos à Venda, 64m²   </td><td>Rua Aporé, 704 - Parque Amazônia, Goiânia - GO                </td><td> 64  </td><td> 2 </td><td>  2     </td><td>  2     </td><td>       360000      </td></tr>\n",
       "\t<tr><th scope=row>2</th><td>  LA VITA RESIDENCE - 8                     </td><td>Rua Timburé, 72 - Santa Genoveva, Goiânia - GO                </td><td> 74  </td><td> 2 </td><td>  2     </td><td>  1     </td><td>       386400      </td></tr>\n",
       "\t<tr><th scope=row>3</th><td>  Apartamento com 2 Quartos à Venda, 60m²   </td><td>Avenida Alexandre de Morais, 1 - Parque Amazônia, Goiânia - GO</td><td> 60  </td><td> 2 </td><td>  2     </td><td>  1     </td><td>       280000      </td></tr>\n",
       "\t<tr><th scope=row>4</th><td>  Apartamento com 3 Quartos à Venda, 93m²   </td><td>Rua Cuiabá, 1 - Parque Amazônia, Goiânia - GO                 </td><td> 93  </td><td> 3 </td><td>  4     </td><td>  2     </td><td>       690000      </td></tr>\n",
       "\t<tr><th scope=row>5</th><td>  Apartamento com 3 Quartos à Venda, 106m²  </td><td>Rua do Parque, 1 - Jardim Atlântico, Goiânia - GO             </td><td> 106 </td><td> 2 </td><td>  4     </td><td>  2     </td><td>       698000      </td></tr>\n",
       "\t<tr><th scope=row>6</th><td>  Apartamento com 2 Quartos à Venda, 68m²   </td><td>Rua 1121, 220 - Setor Bueno, Goiânia - GO                     </td><td> 68  </td><td> 1 </td><td>  2     </td><td>  1     </td><td>       550000      </td></tr>\n",
       "</tbody>\n",
       "</table>\n"
      ],
      "text/latex": [
       "A data.frame: 6 × 7\n",
       "\\begin{tabular}{r|lllllll}\n",
       "  & nome & endereco & area & quartos & banheiros & garagem & preco\\\\\n",
       "  & <chr> & <chr> & <chr> & <chr> & <chr> & <chr> & <chr>\\\\\n",
       "\\hline\n",
       "\t1 &   Apartamento com 2 Quartos à Venda, 64m²    & Rua Aporé, 704 - Parque Amazônia, Goiânia - GO                 &  64   &  2  &   2      &   2      &        360000      \\\\\n",
       "\t2 &   LA VITA RESIDENCE - 8                      & Rua Timburé, 72 - Santa Genoveva, Goiânia - GO                 &  74   &  2  &   2      &   1      &        386400      \\\\\n",
       "\t3 &   Apartamento com 2 Quartos à Venda, 60m²    & Avenida Alexandre de Morais, 1 - Parque Amazônia, Goiânia - GO &  60   &  2  &   2      &   1      &        280000      \\\\\n",
       "\t4 &   Apartamento com 3 Quartos à Venda, 93m²    & Rua Cuiabá, 1 - Parque Amazônia, Goiânia - GO                  &  93   &  3  &   4      &   2      &        690000      \\\\\n",
       "\t5 &   Apartamento com 3 Quartos à Venda, 106m²   & Rua do Parque, 1 - Jardim Atlântico, Goiânia - GO              &  106  &  2  &   4      &   2      &        698000      \\\\\n",
       "\t6 &   Apartamento com 2 Quartos à Venda, 68m²    & Rua 1121, 220 - Setor Bueno, Goiânia - GO                      &  68   &  1  &   2      &   1      &        550000      \\\\\n",
       "\\end{tabular}\n"
      ],
      "text/markdown": [
       "\n",
       "A data.frame: 6 × 7\n",
       "\n",
       "| <!--/--> | nome &lt;chr&gt; | endereco &lt;chr&gt; | area &lt;chr&gt; | quartos &lt;chr&gt; | banheiros &lt;chr&gt; | garagem &lt;chr&gt; | preco &lt;chr&gt; |\n",
       "|---|---|---|---|---|---|---|---|\n",
       "| 1 |   Apartamento com 2 Quartos à Venda, 64m²    | Rua Aporé, 704 - Parque Amazônia, Goiânia - GO                 |  64   |  2  |   2      |   2      |        360000       |\n",
       "| 2 |   LA VITA RESIDENCE - 8                      | Rua Timburé, 72 - Santa Genoveva, Goiânia - GO                 |  74   |  2  |   2      |   1      |        386400       |\n",
       "| 3 |   Apartamento com 2 Quartos à Venda, 60m²    | Avenida Alexandre de Morais, 1 - Parque Amazônia, Goiânia - GO |  60   |  2  |   2      |   1      |        280000       |\n",
       "| 4 |   Apartamento com 3 Quartos à Venda, 93m²    | Rua Cuiabá, 1 - Parque Amazônia, Goiânia - GO                  |  93   |  3  |   4      |   2      |        690000       |\n",
       "| 5 |   Apartamento com 3 Quartos à Venda, 106m²   | Rua do Parque, 1 - Jardim Atlântico, Goiânia - GO              |  106  |  2  |   4      |   2      |        698000       |\n",
       "| 6 |   Apartamento com 2 Quartos à Venda, 68m²    | Rua 1121, 220 - Setor Bueno, Goiânia - GO                      |  68   |  1  |   2      |   1      |        550000       |\n",
       "\n"
      ],
      "text/plain": [
       "  nome                                        \n",
       "1   Apartamento com 2 Quartos à Venda, 64m²   \n",
       "2   LA VITA RESIDENCE - 8                     \n",
       "3   Apartamento com 2 Quartos à Venda, 60m²   \n",
       "4   Apartamento com 3 Quartos à Venda, 93m²   \n",
       "5   Apartamento com 3 Quartos à Venda, 106m²  \n",
       "6   Apartamento com 2 Quartos à Venda, 68m²   \n",
       "  endereco                                                       area  quartos\n",
       "1 Rua Aporé, 704 - Parque Amazônia, Goiânia - GO                  64    2     \n",
       "2 Rua Timburé, 72 - Santa Genoveva, Goiânia - GO                  74    2     \n",
       "3 Avenida Alexandre de Morais, 1 - Parque Amazônia, Goiânia - GO  60    2     \n",
       "4 Rua Cuiabá, 1 - Parque Amazônia, Goiânia - GO                   93    3     \n",
       "5 Rua do Parque, 1 - Jardim Atlântico, Goiânia - GO               106   2     \n",
       "6 Rua 1121, 220 - Setor Bueno, Goiânia - GO                       68    1     \n",
       "  banheiros garagem  preco              \n",
       "1   2         2             360000      \n",
       "2   2         1             386400      \n",
       "3   2         1             280000      \n",
       "4   4         2             690000      \n",
       "5   4         2             698000      \n",
       "6   2         1             550000      "
      ]
     },
     "metadata": {},
     "output_type": "display_data"
    }
   ],
   "source": [
    "df = read.csv('/content/raspar_apartamento.csv', header=TRUE)\n",
    "head(df)"
   ]
  },
  {
   "cell_type": "code",
   "execution_count": 2,
   "metadata": {
    "colab": {
     "base_uri": "https://localhost:8080/",
     "height": 34
    },
    "executionInfo": {
     "elapsed": 524,
     "status": "ok",
     "timestamp": 1691520271352,
     "user": {
      "displayName": "Otacílio José Oliveira Fonseca",
      "userId": "11821168323875409957"
     },
     "user_tz": 180
    },
    "id": "vmpeNqR_B1cd",
    "outputId": "ec17ee06-571a-412a-eeb1-667befee9338"
   },
   "outputs": [
    {
     "data": {
      "text/html": [
       "<style>\n",
       ".list-inline {list-style: none; margin:0; padding: 0}\n",
       ".list-inline>li {display: inline-block}\n",
       ".list-inline>li:not(:last-child)::after {content: \"\\00b7\"; padding: 0 .5ex}\n",
       "</style>\n",
       "<ol class=list-inline><li>18828</li><li>7</li></ol>\n"
      ],
      "text/latex": [
       "\\begin{enumerate*}\n",
       "\\item 18828\n",
       "\\item 7\n",
       "\\end{enumerate*}\n"
      ],
      "text/markdown": [
       "1. 18828\n",
       "2. 7\n",
       "\n",
       "\n"
      ],
      "text/plain": [
       "[1] 18828     7"
      ]
     },
     "metadata": {},
     "output_type": "display_data"
    }
   ],
   "source": [
    "# linhas x colunas\n",
    "dim(df)"
   ]
  },
  {
   "cell_type": "code",
   "execution_count": 3,
   "metadata": {
    "colab": {
     "base_uri": "https://localhost:8080/",
     "height": 34
    },
    "executionInfo": {
     "elapsed": 51,
     "status": "ok",
     "timestamp": 1691520271353,
     "user": {
      "displayName": "Otacílio José Oliveira Fonseca",
      "userId": "11821168323875409957"
     },
     "user_tz": 180
    },
    "id": "a3dI6393C7S5",
    "outputId": "18fa816d-5d4d-402a-d342-08cda5633c57"
   },
   "outputs": [
    {
     "data": {
      "text/html": [
       "<style>\n",
       ".list-inline {list-style: none; margin:0; padding: 0}\n",
       ".list-inline>li {display: inline-block}\n",
       ".list-inline>li:not(:last-child)::after {content: \"\\00b7\"; padding: 0 .5ex}\n",
       "</style>\n",
       "<ol class=list-inline><li>'nome'</li><li>'endereco'</li><li>'area'</li><li>'quartos'</li><li>'banheiros'</li><li>'garagem'</li><li>'preco'</li></ol>\n"
      ],
      "text/latex": [
       "\\begin{enumerate*}\n",
       "\\item 'nome'\n",
       "\\item 'endereco'\n",
       "\\item 'area'\n",
       "\\item 'quartos'\n",
       "\\item 'banheiros'\n",
       "\\item 'garagem'\n",
       "\\item 'preco'\n",
       "\\end{enumerate*}\n"
      ],
      "text/markdown": [
       "1. 'nome'\n",
       "2. 'endereco'\n",
       "3. 'area'\n",
       "4. 'quartos'\n",
       "5. 'banheiros'\n",
       "6. 'garagem'\n",
       "7. 'preco'\n",
       "\n",
       "\n"
      ],
      "text/plain": [
       "[1] \"nome\"      \"endereco\"  \"area\"      \"quartos\"   \"banheiros\" \"garagem\"  \n",
       "[7] \"preco\"    "
      ]
     },
     "metadata": {},
     "output_type": "display_data"
    }
   ],
   "source": [
    "# nome das colunas\n",
    "colnames(df)"
   ]
  },
  {
   "cell_type": "code",
   "execution_count": 4,
   "metadata": {
    "colab": {
     "base_uri": "https://localhost:8080/"
    },
    "executionInfo": {
     "elapsed": 53,
     "status": "ok",
     "timestamp": 1691520271356,
     "user": {
      "displayName": "Otacílio José Oliveira Fonseca",
      "userId": "11821168323875409957"
     },
     "user_tz": 180
    },
    "id": "ooBRk3w4C_LS",
    "outputId": "6452677d-ba5f-4671-c5e8-8652941fc593"
   },
   "outputs": [
    {
     "name": "stdout",
     "output_type": "stream",
     "text": [
      "'data.frame':\t18828 obs. of  7 variables:\n",
      " $ nome     : chr  \"  Apartamento com 2 Quartos à Venda, 64m²  \" \"  LA VITA RESIDENCE - 8  \" \"  Apartamento com 2 Quartos à Venda, 60m²  \" \"  Apartamento com 3 Quartos à Venda, 93m²  \" ...\n",
      " $ endereco : chr  \"Rua Aporé, 704 - Parque Amazônia, Goiânia - GO\" \"Rua Timburé, 72 - Santa Genoveva, Goiânia - GO\" \"Avenida Alexandre de Morais, 1 - Parque Amazônia, Goiânia - GO\" \"Rua Cuiabá, 1 - Parque Amazônia, Goiânia - GO\" ...\n",
      " $ area     : chr  \" 64 \" \" 74 \" \" 60 \" \" 93 \" ...\n",
      " $ quartos  : chr  \" 2 \" \" 2 \" \" 2 \" \" 3 \" ...\n",
      " $ banheiros: chr  \"  2     \" \"  2     \" \"  2     \" \"  4     \" ...\n",
      " $ garagem  : chr  \"  2     \" \"  1     \" \"  1     \" \"  2     \" ...\n",
      " $ preco    : chr  \"       360000      \" \"       386400      \" \"       280000      \" \"       690000      \" ...\n"
     ]
    }
   ],
   "source": [
    "# Verificando o tipo de cada coluna, estão como strings\n",
    "str(df)"
   ]
  },
  {
   "cell_type": "code",
   "execution_count": 5,
   "metadata": {
    "colab": {
     "base_uri": "https://localhost:8080/"
    },
    "executionInfo": {
     "elapsed": 49,
     "status": "ok",
     "timestamp": 1691520271358,
     "user": {
      "displayName": "Otacílio José Oliveira Fonseca",
      "userId": "11821168323875409957"
     },
     "user_tz": 180
    },
    "id": "fMYrsiRTE6m4",
    "outputId": "ed6b5905-cb8c-4cef-cf1a-cea94945a366"
   },
   "outputs": [
    {
     "name": "stdout",
     "output_type": "stream",
     "text": [
      "     nome  endereco      area   quartos banheiros   garagem     preco \n",
      "        0         0         0         0         0         0         0 \n"
     ]
    }
   ],
   "source": [
    "# Contar valores ausentes em cada coluna\n",
    "valores_ausentes <- colSums(is.na(df))\n",
    "\n",
    "# Exibir a contagem de valores ausentes em cada coluna\n",
    "print(valores_ausentes)"
   ]
  },
  {
   "cell_type": "code",
   "execution_count": 6,
   "metadata": {
    "colab": {
     "base_uri": "https://localhost:8080/"
    },
    "executionInfo": {
     "elapsed": 48,
     "status": "ok",
     "timestamp": 1691520271359,
     "user": {
      "displayName": "Otacílio José Oliveira Fonseca",
      "userId": "11821168323875409957"
     },
     "user_tz": 180
    },
    "id": "bHmsvkJyFWbP",
    "outputId": "b183770d-cc08-4244-b9c2-190fcf246cbb"
   },
   "outputs": [
    {
     "name": "stdout",
     "output_type": "stream",
     "text": [
      "$nome\n",
      "  [1] \"  Apartamento com 2 Quartos à Venda, 64m²  \" \n",
      "  [2] \"  LA VITA RESIDENCE - 8  \"                   \n",
      "  [3] \"  Apartamento com 2 Quartos à Venda, 60m²  \" \n",
      "  [4] \"  Apartamento com 3 Quartos à Venda, 93m²  \" \n",
      "  [5] \"  Apartamento com 3 Quartos à Venda, 106m²  \"\n",
      "  [6] \"  Apartamento com 2 Quartos à Venda, 68m²  \" \n",
      "  [7] \"  Apartamento com  Quarto à Venda, 49m²  \"   \n",
      "  [8] \"  Apartamento com 3 Quartos à Venda, 130m²  \"\n",
      "  [9] \"  Copas do Bosque  \"                         \n",
      " [10] \"  Apartamento com 2 Quartos à Venda, 87m²  \" \n",
      " [11] \"  Apartamento com 2 Quartos à Venda, 54m²  \" \n",
      " [12] \"  Apartamento com 3 Quartos à Venda, 74m²  \" \n",
      " [13] \"  Apartamento com 2 Quartos à Venda, 71m²  \" \n",
      " [14] \"  Apartamento com 3 Quartos à Venda, 86m²  \" \n",
      " [15] \"  Apartamento com 2 Quartos à Venda, 63m²  \" \n",
      " [16] \"  Residencial Viverde Areião - 70m²  \"       \n",
      " [17] \"  Apartamento com 3 Quartos à Venda, 89m²  \" \n",
      " [18] \"  Apartamento com 3 Quartos à Venda, 108m²  \"\n",
      " [19] \"  Apartamento com 3 Quartos à Venda, 83m²  \" \n",
      " [20] \"  Apartamento com 3 Quartos à Venda, 80m²  \" \n",
      " [21] \"  Apartamento com 3 Quartos à Venda, 150m²  \"\n",
      " [22] \"  Apartamento com 3 Quartos à Venda, 88m²  \" \n",
      " [23] \"  Apartamento com 3 Quartos à Venda, 100m²  \"\n",
      " [24] \"  Apartamento com 3 Quartos à Venda, 75m²  \" \n",
      " [25] \"  Apartamento com 3 Quartos à Venda, 120m²  \"\n",
      " [26] \"  Apartamento com 3 Quartos à Venda, 78m²  \" \n",
      " [27] \"  Apartamento com 3 Quartos à Venda, 91m²  \" \n",
      " [28] \"  Apartamento com 3 Quartos à Venda, 90m²  \" \n",
      " [29] \"  Apartamento com 3 Quartos à Venda, 101m²  \"\n",
      " [30] \"  Apartamento com 2 Quartos à Venda, 57m²  \" \n",
      " [31] \"  Apartamento com 2 Quartos à Venda, 67m²  \" \n",
      " [32] \"  Apartamento com 2 Quartos à Venda, 56m²  \" \n",
      " [33] \"  Ritmo Bueno - 67m²  \"                      \n",
      " [34] \"  Apartamento com 3 Quartos à Venda, 131m²  \"\n",
      " [35] \"  Apartamento com 3 Quartos à Venda, 99m²  \" \n",
      " [36] \"  Island Vaca Brava  \"                       \n",
      " [37] \"  Apartamento com 2 Quartos à Venda, 58m²  \" \n",
      " [38] \"  Apartamento com 3 Quartos à Venda, 111m²  \"\n",
      " [39] \"  Residencial Vaca Brava 53 - 77m²  \"        \n",
      " [40] \"  Apartamento com 3 Quartos à Venda, 98m²  \" \n",
      " [41] \"  Apartamento com 3 Quartos à Venda, 94m²  \" \n",
      " [42] \"  Apartamento com 3 Quartos à Venda, 72m²  \" \n",
      " [43] \"  Apartamento com 2 Quartos à Venda, 62m²  \" \n",
      " [44] \"  Apartamento com 3 Quartos à Venda, 125m²  \"\n",
      " [45] \"  LA VITA RESIDENCE - 6  \"                   \n",
      " [46] \"  LA VITA RESIDENCE  \"                       \n",
      " [47] \"  The Sun  \"                                 \n",
      " [48] \"  Residencial Lago Areião - 75m²  \"          \n",
      " [49] \"  Residencial Lago Areião - 140M²  \"         \n",
      " [50] \"  Wish Bella Vista - 59m²  \"                 \n",
      " [51] \"  Residencial Lago Areião - 108m²  \"         \n",
      " [52] \"  Ilumi Bueno - 103m²  \"                     \n",
      " [53] \"  Wish Coimbra - 79m²  \"                     \n",
      " [54] \"  Apartamento com 3 Quartos à Venda, 84m²  \" \n",
      " [55] \"  Wish Bella Vista - 76m²  \"                 \n",
      " [56] \"  LA VITA RESIDENCE - 4  \"                   \n",
      " [57] \"  LA VITA RESIDENCE - 7  \"                   \n",
      " [58] \"  Bueno Park Residencial – 3Q  \"             \n",
      " [59] \"  Ilumi Bueno - 75m²  \"                      \n",
      " [60] \"  Maestro Residenza - 148m²  \"               \n",
      " [61] \"  Now Parque Amazônia  \"                     \n",
      " [62] \"  Atlantic Di Lourenzzo  \"                   \n",
      " [63] \"  Reserva Newest 185m²  \"                    \n",
      " [64] \"  Wish Aeroporto - 79m²  \"                   \n",
      " [65] \"  Apartamento com 3 Quartos à Venda, 105m²  \"\n",
      " [66] \"  Apartamento com 4 Quartos à Venda, 120m²  \"\n",
      " [67] \"  Apartamento com 4 Quartos à Venda, 340m²  \"\n",
      " [68] \"  Cena Marista  \"                            \n",
      " [69] \"  Alto Areião - 96m²  \"                      \n",
      " [70] \"  Closer 23 Home Brasal  \"                   \n",
      " [71] \"  LA VITA RESIDENCE - 5  \"                   \n",
      " [72] \"  Residencial Milão  \"                       \n",
      " [73] \"  Residencial Alameda Leste - 64m²  \"        \n",
      " [74] \"  Maestro Residenza - 88m²  \"                \n",
      " [75] \"  LA VITA RESIDENCE - 2  \"                   \n",
      " [76] \"  Raízes Parque Cascavel  \"                  \n",
      " [77] \"  Uptown Home - 76m²  \"                      \n",
      " [78] \"  Solar Amazônia - 76m²  \"                   \n",
      " [79] \"  Residencial Viverde Areião - 119m²  \"      \n",
      " [80] \"  Alameda Leste - 76m²  \"                    \n",
      " [81] \"  Residencial Varandas Bueno 78M²  \"         \n",
      " [82] \"  Uptown Home - 64m²  \"                      \n",
      " [83] \"  Boulevard Sudoeste  \"                      \n",
      " [84] \"  Gran Plaza  \"                              \n",
      " [85] \"  Uptown Home - 96m²  \"                      \n",
      " [86] \"  Residencial Vaca Brava 53 - 68m²  \"        \n",
      " [87] \"  Residencial Solar Amazônia  \"              \n",
      " [88] \"  Gran Paris  \"                              \n",
      " [89] \"  Finest Bueno  \"                            \n",
      " [90] \"  Residencial Ritmo Bueno - 85m²  \"          \n",
      " [91] \"  Maestro Residenza - 135m²  \"               \n",
      " [92] \"  Wish Aeroporto - 58m²  \"                   \n",
      " [93] \"  Maestro Residenza - 219m²  \"               \n",
      " [94] \"  Copas do Bosque || 280M²  \"                \n",
      " [95] \"  Plaza D'oro Office  \"                      \n",
      " [96] \"  LA VITA RESIDENCE - 3  \"                   \n",
      " [97] \"  Residencial Alto Areião  \"                 \n",
      " [98] \"  Wish Vaca Brava  \"                         \n",
      " [99] \"  Residencial Vaca Brava 53 - 65m²  \"        \n",
      "[100] \"  Moove Home Brasal 69m²  \"                  \n",
      "[101] \"  Tom Bueno  \"                               \n",
      "[102] \"  Residencial Viverde Areião - 91m²  \"       \n",
      "[103] \"  Wish Vaca Brava - 65m²  \"                  \n",
      "[104] \"  Spazio  \"                                  \n",
      "[105] \"  Solar Amazônia - 83m²  \"                   \n",
      "[106] \"  Ilumi Bueno - 58m²  \"                      \n",
      "[107] \"  Residencial Varandas Bueno  \"              \n",
      "[108] \"  Alto Areião - 87m²  \"                      \n",
      "[109] \"  Copas do Bosque || 167M²  \"                \n",
      "[110] \"  Alameda Leste - 90m²  \"                    \n",
      "[111] \"  Wish Coimbra - 59m²  \"                     \n",
      "[112] \"  Varandas de Ipanema  \"                     \n",
      "\n",
      "$endereco\n",
      " [1] \"Rua Aporé, 704 - Parque Amazônia, Goiânia - GO\"                        \n",
      " [2] \"Rua Timburé, 72 - Santa Genoveva, Goiânia - GO\"                        \n",
      " [3] \"Avenida Alexandre de Morais, 1 - Parque Amazônia, Goiânia - GO\"        \n",
      " [4] \"Rua Cuiabá, 1 - Parque Amazônia, Goiânia - GO\"                         \n",
      " [5] \"Rua do Parque, 1 - Jardim Atlântico, Goiânia - GO\"                     \n",
      " [6] \"Rua 1121, 220 - Setor Bueno, Goiânia - GO\"                             \n",
      " [7] \"Rua T 38, 430 - Setor Bueno, Goiânia - GO\"                             \n",
      " [8] \"Rua 55, 389 - Jardim Goiás, Goiânia - GO\"                              \n",
      " [9] \"Rua 1 - Setor Oeste, Goiânia - GO\"                                     \n",
      "[10] \"Rua T 59, 35 - Setor Bueno, Goiânia - GO\"                              \n",
      "[11] \"Rua Niterói, 1000 - Parque Amazônia, Goiânia - GO\"                     \n",
      "[12] \"Rua A20, 215 - Vila Alpes, Goiânia - GO\"                               \n",
      "[13] \"Rua da Charita, 198 - Jardim Atlântico, Goiânia - GO\"                  \n",
      "[14] \"Rua T 48, 683 - Setor Bueno, Goiânia - GO\"                             \n",
      "[15] \"Rua T 30, 0 - Setor Bueno, Goiânia - GO\"                               \n",
      "[16] \"Rua 1029, 1024 c/ 1029 - Setor Pedro Ludovico, Goiânia - GO\"           \n",
      "[17] \"Rua 137-A, 204 - Setor Marista, Goiânia - GO\"                          \n",
      "[18] \"Rua C 158, 3223 - Jardim América, Goiânia - GO\"                        \n",
      "[19] \"Avenida E, 453 - Jardim Goiás, Goiânia - GO\"                           \n",
      "[20] \"Rua 226, 995 - Setor Leste Universitário, Goiânia - GO\"                \n",
      "[21] \"Rua T 37, 3832 - Setor Bueno, Goiânia - GO\"                            \n",
      "[22] \"Rua Santarém, 14 - Parque Amazônia, Goiânia - GO\"                      \n",
      "[23] \"Rua Samuel Morse, 23 - Serrinha, Goiânia - GO\"                         \n",
      "[24] \"Rua Timburé, 22 - Aeroporto Internacional Santa Genoveva, Goiânia - GO\"\n",
      "[25] \"Rua T 28, 1 - Setor Bueno, Goiânia - GO\"                               \n",
      "[26] \"Avenida São João, 1 - Alto da Glória, Goiânia - GO\"                    \n",
      "[27] \"Rua João Augusto, 00 - Vila Rosa, Aparecida de Goiânia - GO\"           \n",
      "[28] \"Alameda Juazeiro do Norte, 1 - Parque Amazônia, Goiânia - GO\"          \n",
      "[29] \"Avenida C16, 453 - Setor Sudoeste, Goiânia - GO\"                       \n",
      "[30] \"Rua Manaus, 1230 - Parque Amazônia, Goiânia - GO\"                      \n",
      "[31] \"Rua Aracaju, 1 - Parque Amazônia, Goiânia - GO\"                        \n",
      "[32] \"Avenida Milão, 354 - Residencial Eldorado, Goiânia - GO\"               \n",
      "[33] \"Rua Maceió, 540 - Parque Amazônia, Goiânia - GO\"                       \n",
      "[34] \"Avenida Padre Orlando Morais, 414 - Parque Amazônia, Goiânia - GO\"     \n",
      "[35] \"Rua T 37, 3449 - Setor Bueno, Goiânia - GO\"                            \n",
      "[36] \"Rua T 29, 119 - Setor Bueno, Goiânia - GO\"                             \n",
      "[37] \"Praça A, 1 - Jardim Goiás, Goiânia - GO\"                               \n",
      "[38] \"Rua C 234, 238 - Jardim América, Goiânia - GO\"                         \n",
      "[39] \"Avenida Roma, 230 - Residencial Eldorado, Goiânia - GO\"                \n",
      "[40] \"Avenida Primeira Radial, 17 - Setor Pedro Ludovico, Goiânia - GO\"      \n",
      "[41] \"Rua T 53, 1151 - Setor Bueno, Goiânia - GO\"                            \n",
      "[42] \"Avenida Copacabana, 135 - Jardim Atlântico, Goiânia - GO\"              \n",
      "[43] \"Avenida T 14, 1529 - Setor Bueno, Goiânia - GO\"                        \n",
      "[44] \"Rua T 28, 12 - Setor Bueno, Goiânia - GO\"                              \n",
      "[45] \"Rua 1034, 186 - Setor Pedro Ludovico, Goiânia - GO\"                    \n",
      "[46] \"Rua 1128, 182 - Setor Marista, Goiânia - GO\"                           \n",
      "[47] \"Rua 58, 4 - Jardim Goiás, Goiânia - GO\"                                \n",
      "[48] \"Rua 9, 13 - Setor Oeste, Goiânia - GO\"                                 \n",
      "[49] \"Avenida Areião, 627 - Setor Pedro Ludovico, Goiânia - GO\"              \n",
      "[50] \"Rua S 5, Rua S5 e Rua S6 - Setor Bela Vista, Goiânia - GO\"             \n",
      "[51] \"Rua T 37, 63 - Setor Bueno, Goiânia - GO\"                              \n",
      "[52] \"Alameda Ricardo Paranhos, Quadra 29 - Setor Marista, Goiânia - GO\"     \n",
      "[53] \"Avenida T 15, 1380 - Setor Bueno, Goiânia - GO\"                        \n",
      "[54] \"Rua Cuiabá, 18 - Parque Amazônia, Goiânia - GO\"                        \n",
      "[55] \"Rua 1041, 12 - Setor Pedro Ludovico, Goiânia - GO\"                     \n",
      "[56] \"Avenida 24 de Outubro, 201 - Aeroviário, Goiânia - GO\"                 \n",
      "[57] \"Rua S 5, s/n - Setor Bela Vista, Goiânia - GO\"                         \n",
      "[58] \"Rua 1141, 358 - Setor Marista, Goiânia - GO\"                           \n",
      "[59] \"Rua Humaitá, 10 - São Francisco, Goiânia - GO\"                         \n",
      "[60] \"Jardim América, Goiânia - GO\"                                          \n",
      "[61] \"Rua T 30, 92 - Setor Bueno, Goiânia - GO\"                              \n",
      "[62] \"Rua 22, Quadra G-10 - Setor Oeste, Goiânia - GO\"                       \n",
      "[63] \"Avenida Padre Orlando Morais, s/n - Parque Amazônia, Goiânia - GO\"     \n",
      "[64] \"Rua Boulevard Amendoeiras, 70 - Jardim Atlântico, Goiânia - GO\"        \n",
      "[65] \"Rua 12, 78 - Setor Oeste, Goiânia - GO\"                                \n",
      "[66] \"Rua 25 A, - - Setor Aeroporto, Goiânia - GO\"                           \n",
      "[67] \"Rua 59, Sn - Jardim Goiás, Goiânia - GO\"                               \n",
      "[68] \"Avenida T 15, 4 - Nova Suica, Goiânia - GO\"                            \n",
      "[69] \"Avenida R 11, 794 - Setor Oeste, Goiânia - GO\"                         \n",
      "[70] \"Avenida Armando de Godoy, 270 - Setor Negrão de Lima, Goiânia - GO\"    \n",
      "[71] \"Rua 1124, 246 - Setor Marista, Goiânia - GO\"                           \n",
      "[72] \"Rua 1033, 75 - Setor Pedro Ludovico, Goiânia - GO\"                     \n",
      "[73] \"Rua T 55, 580 - Setor Bueno, Goiânia - GO\"                             \n",
      "[74] \"Alameda das Chácaras, s/n - Chacaras Dona Gê, Goiânia - GO\"            \n",
      "[75] \"Avenida Armando de Godoy - Setor Negrão de Lima, Goiânia - GO\"         \n",
      "[76] \"Rua Doutor Joaquim Taveira, 531 - Vila Rosa, Goiânia - GO\"             \n",
      "[77] \"Rua Puccini, 389-325 - Jardim Europa, Goiânia - GO\"                    \n",
      "[78] \"Avenida Feira de Santana, s/n - Parque Amazônia, Goiânia - GO\"         \n",
      "[79] \"Avenida Armando de Godoy, 1 - Setor Negrão de Lima, Goiânia - GO\"      \n",
      "[80] \"Avenida T 3, s/n - Setor Bueno, Goiânia - GO\"                          \n",
      "[81] \"Rua C83, s/n - Setor Sudoeste, Goiânia - GO\"                           \n",
      "[82] \"Avenida Hamburgo, 1 - Jardim Novo Mundo, Goiânia - GO\"                 \n",
      "[83] \"Avenida Feira de Santana, - - Parque Amazônia, Goiânia - GO\"           \n",
      "[84] \"Rua F55, s/n - Setor Faiçalville, Goiânia - GO\"                        \n",
      "[85] \"Rua T 30, Qd.63, R. L-15, 17 - Setor Bueno, Goiânia - GO\"              \n",
      "[86] \"Rua 25 A - Setor Aeroporto, Goiânia - GO\"                              \n",
      "[87] \"Rua 1, s/n - Setor Oeste, Goiânia - GO\"                                \n",
      "[88] \"Avenida Nápoli, 500 - Residencial Eldorado, Goiânia - GO\"              \n",
      "[89] \"Avenida João Leite, 72 - Santa Genoveva, Goiânia - GO\"                 \n",
      "[90] \"Rua 1033 - Setor Pedro Ludovico, Goiânia - GO\"                         \n",
      "[91] \"Rua T 30, s/n - Setor Bueno, Goiânia - GO\"                             \n",
      "[92] \"Rua T 37, 2720 - Setor Bueno, Goiânia - GO\"                            \n",
      "[93] \"Avenida T 15, s/n - Setor Bueno, Goiânia - GO\"                         \n",
      "[94] \"Avenida Marialva, 18 - Vila Rosa, Goiânia - GO\"                        \n",
      "[95] \"Avenida T 15, 50 - Setor Bueno, Goiânia - GO\"                          \n",
      "[96] \"Rua 1033, 1033 com 1037 - Setor Pedro Ludovico, Goiânia - GO\"          \n",
      "[97] \"Rua 1, S/N - Setor Oeste, Goiânia - GO\"                                \n",
      "[98] \"Rua 250, 321 - Setor Coimbra, Goiânia - GO\"                            \n",
      "[99] \"Avenida Copacabana, s/n - Jardim Atlântico, Goiânia - GO\"              \n",
      "\n",
      "$area\n",
      " [1] \" 64 \"      \" 74 \"      \" 60 \"      \" 93 \"      \" 106 \"     \" 68 \"     \n",
      " [7] \" 49 \"      \" 130 \"     \" 103 \"     \" 87 \"      \" 54 \"      \" 71 \"     \n",
      "[13] \" 86 \"      \" 63 \"      \" 70-74 \"   \" 89 \"      \" 108 \"     \" 83 \"     \n",
      "[19] \" 80 \"      \" 150 \"     \" 88 \"      \" 100 \"     \" 75 \"      \" 120 \"    \n",
      "[25] \" 78 \"      \" 91 \"      \" 90 \"      \" 101 \"     \" 57 \"      \" 67 \"     \n",
      "[31] \" 56 \"      \" 131 \"     \" 99 \"      \" 122-223 \" \" 58 \"      \" 111 \"    \n",
      "[37] \" 77-81 \"   \" 98 \"      \" 94 \"      \" 72 \"      \" 62 \"      \" 125 \"    \n",
      "[43] \" 450 \"     \" 140 \"     \" 59 \"      \" 103-109 \" \" 79 \"      \" 84 \"     \n",
      "[49] \" 76 \"      \" 148 \"     \" 42-61 \"   \" 191 \"     \" 185-221 \" \" 105 \"    \n",
      "[55] \" 340 \"     \" 96-99 \"   \" 65-147 \"  \" 52 \"      \" 55-56 \"   \" 76-83 \"  \n",
      "[61] \" 119 \"     \" 57-59 \"   \" 37-49 \"   \" 96 \"      \" 68-69 \"   \" 35-44 \"  \n",
      "[67] \" 160 \"     \" 85-88 \"   \" 135 \"     \" 219 \"     \" 280 \"     \" 45 \"     \n",
      "[73] \" 65 \"      \" 80-100 \"  \" 65-71 \"   \" 69-119 \"  \" 112-195 \" \" 62-80 \"  \n",
      "[79] \" 56-74 \"   \" 58-64 \"   \" 64-66 \"   \" 167 \"    \n",
      "\n",
      "$quartos\n",
      " [1] \" 2 \"   \" 3 \"   \" 1 \"   \" 4 \"   \" 5 \"   \" 1-3 \" \" 1-2 \" \" 3-4 \" \" 2-3 \"\n",
      "[10] \" 1-4 \" \" 2-4 \" \" -- \"  \" 3-5 \" \" 6 \"  \n",
      "\n",
      "$banheiros\n",
      " [1] \"  2     \"   \"  4     \"   \"  1     \"   \"  5     \"   \"  3     \"  \n",
      " [6] \"  1-2     \" \"  2-4     \" \"  6     \"   \"  --     \"  \"  2-3     \"\n",
      "[11] \"  3-4     \"\n",
      "\n",
      "$garagem\n",
      " [1] \"  2     \"   \"  1     \"   \"  3     \"   \"  1-3     \" \"  5     \"  \n",
      " [6] \"  1-2     \" \"  2-3     \" \"  4     \"   \"  1-4     \" \"  --     \" \n",
      "[11] \"  3-5     \" \"  3-4     \"\n",
      "\n",
      "$preco\n",
      "  [1] \"       360000      \"             \"       386400      \"            \n",
      "  [3] \"       280000      \"             \"       690000      \"            \n",
      "  [5] \"       698000      \"             \"       550000      \"            \n",
      "  [7] \"       489000      \"             \"       990000      \"            \n",
      "  [9] \"       816218      \"             \"       560000      \"            \n",
      " [11] \"       315000      \"             \"       335000      \"            \n",
      " [13] \"       310000      \"             \"       440000      \"            \n",
      " [15] \"       635000      \"             \"       544500      \"            \n",
      " [17] \"       765000      \"             \"       425000      \"            \n",
      " [19] \"       510000      \"             \"       600000      \"            \n",
      " [21] \"       750000      \"             \"       340000      \"            \n",
      " [23] \"       833896      \"             \"       382000      \"            \n",
      " [25] \"       1100000      \"            \"       450000      \"            \n",
      " [27] \"       588622      \"             \"       424200      \"            \n",
      " [29] \"       285000      \"             \"       1059415      \"           \n",
      " [31] \"       239000      \"             \"       288000      \"            \n",
      " [33] \"       460000      \"             \"       269000      \"            \n",
      " [35] \"       565000      \"             \"       700000      \"            \n",
      " [37] \"       775000      \"             \"       951580      \"            \n",
      " [39] \"       250000      \"             \"       850000      \"            \n",
      " [41] \"       654000      \"             \"       650000      \"            \n",
      " [43] \"       527000      \"             \"       437124      \"            \n",
      " [45] \"       674449      \"             \"       830000      \"            \n",
      " [47] \"       454500      \"             \"    Sob Consulta   \"            \n",
      " [49] \"       4750000      \"            \"       599000      \"            \n",
      " [51] \"       1115000      \"            \"       249999      \"            \n",
      " [53] \"       380000      \"             \"       750000         \"         \n",
      " [55] \"       841700      \"             \"       660000      \"            \n",
      " [57] \"       515855      \"             \"       640000      \"            \n",
      " [59] \"       530000      \"             \"       630000      \"            \n",
      " [61] \"       275000      \"             \"       410000      \"            \n",
      " [63] \"       406700      \"             \"       423600      \"            \n",
      " [65] \"       999600      \"             \"       639000      \"            \n",
      " [67] \"       370000      \"             \"       1190000      \"           \n",
      " [69] \"       758000      \"             \"       740000      \"            \n",
      " [71] \"       1250000      \"            \"       432000      \"            \n",
      " [73] \"       715000      \"             \"       415800      \"            \n",
      " [75] \"       290000      \"             \"       415600      \"            \n",
      " [77] \"       450100      \"             \"       330000      \"            \n",
      " [79] \"       456500      \"             \"       454000      \"            \n",
      " [81] \"       527500      \"             \"       317408      \"            \n",
      " [83] \"       236643      \"             \"       613000      \"            \n",
      " [85] \"       385100      \"             \"       230225      \"            \n",
      " [87] \"       701600      \"             \"       325000      \"            \n",
      " [89] \"       3586558      \"            \"       397800      \"            \n",
      " [91] \"       436200      \"             \"       466800      \"            \n",
      " [93] \"  A partir de      730000      \" \"       556600      \"            \n",
      " [95] \"       626400      \"             \"  A partir de      550000      \"\n",
      " [97] \"  A partir de      340000      \" \"       492300      \"            \n",
      " [99] \"       430000      \"             \"       653500      \"            \n",
      "[101] \"       2008659      \"            \"       581500      \"            \n",
      "[103] \"       878000      \"            \n",
      "\n"
     ]
    }
   ],
   "source": [
    "valores_unicos <- lapply(df, unique)\n",
    "names(valores_unicos) <- names(df)\n",
    "\n",
    "print(valores_unicos)"
   ]
  },
  {
   "cell_type": "code",
   "execution_count": 7,
   "metadata": {
    "executionInfo": {
     "elapsed": 44,
     "status": "ok",
     "timestamp": 1691520271359,
     "user": {
      "displayName": "Otacílio José Oliveira Fonseca",
      "userId": "11821168323875409957"
     },
     "user_tz": 180
    },
    "id": "dibHAEHGF0sH"
   },
   "outputs": [],
   "source": [
    "# Excluindo colunas irrelevantes\n",
    "df$nome <- NULL\n",
    "df$endereco <- NULL"
   ]
  },
  {
   "cell_type": "code",
   "execution_count": 8,
   "metadata": {
    "colab": {
     "base_uri": "https://localhost:8080/"
    },
    "executionInfo": {
     "elapsed": 45,
     "status": "ok",
     "timestamp": 1691520271360,
     "user": {
      "displayName": "Otacílio José Oliveira Fonseca",
      "userId": "11821168323875409957"
     },
     "user_tz": 180
    },
    "id": "vIbtr4yOGO2f",
    "outputId": "07ed97ec-e0aa-4070-fcc0-5d8d4573cd14"
   },
   "outputs": [
    {
     "name": "stdout",
     "output_type": "stream",
     "text": [
      "$area\n",
      " [1] \" 64 \"      \" 74 \"      \" 60 \"      \" 93 \"      \" 106 \"     \" 68 \"     \n",
      " [7] \" 49 \"      \" 130 \"     \" 103 \"     \" 87 \"      \" 54 \"      \" 71 \"     \n",
      "[13] \" 86 \"      \" 63 \"      \" 70-74 \"   \" 89 \"      \" 108 \"     \" 83 \"     \n",
      "[19] \" 80 \"      \" 150 \"     \" 88 \"      \" 100 \"     \" 75 \"      \" 120 \"    \n",
      "[25] \" 78 \"      \" 91 \"      \" 90 \"      \" 101 \"     \" 57 \"      \" 67 \"     \n",
      "[31] \" 56 \"      \" 131 \"     \" 99 \"      \" 122-223 \" \" 58 \"      \" 111 \"    \n",
      "[37] \" 77-81 \"   \" 98 \"      \" 94 \"      \" 72 \"      \" 62 \"      \" 125 \"    \n",
      "[43] \" 450 \"     \" 140 \"     \" 59 \"      \" 103-109 \" \" 79 \"      \" 84 \"     \n",
      "[49] \" 76 \"      \" 148 \"     \" 42-61 \"   \" 191 \"     \" 185-221 \" \" 105 \"    \n",
      "[55] \" 340 \"     \" 96-99 \"   \" 65-147 \"  \" 52 \"      \" 55-56 \"   \" 76-83 \"  \n",
      "[61] \" 119 \"     \" 57-59 \"   \" 37-49 \"   \" 96 \"      \" 68-69 \"   \" 35-44 \"  \n",
      "[67] \" 160 \"     \" 85-88 \"   \" 135 \"     \" 219 \"     \" 280 \"     \" 45 \"     \n",
      "[73] \" 65 \"      \" 80-100 \"  \" 65-71 \"   \" 69-119 \"  \" 112-195 \" \" 62-80 \"  \n",
      "[79] \" 56-74 \"   \" 58-64 \"   \" 64-66 \"   \" 167 \"    \n",
      "\n",
      "$quartos\n",
      " [1] \" 2 \"   \" 3 \"   \" 1 \"   \" 4 \"   \" 5 \"   \" 1-3 \" \" 1-2 \" \" 3-4 \" \" 2-3 \"\n",
      "[10] \" 1-4 \" \" 2-4 \" \" -- \"  \" 3-5 \" \" 6 \"  \n",
      "\n",
      "$banheiros\n",
      " [1] \"  2     \"   \"  4     \"   \"  1     \"   \"  5     \"   \"  3     \"  \n",
      " [6] \"  1-2     \" \"  2-4     \" \"  6     \"   \"  --     \"  \"  2-3     \"\n",
      "[11] \"  3-4     \"\n",
      "\n",
      "$garagem\n",
      " [1] \"  2     \"   \"  1     \"   \"  3     \"   \"  1-3     \" \"  5     \"  \n",
      " [6] \"  1-2     \" \"  2-3     \" \"  4     \"   \"  1-4     \" \"  --     \" \n",
      "[11] \"  3-5     \" \"  3-4     \"\n",
      "\n",
      "$preco\n",
      "  [1] \"       360000      \"             \"       386400      \"            \n",
      "  [3] \"       280000      \"             \"       690000      \"            \n",
      "  [5] \"       698000      \"             \"       550000      \"            \n",
      "  [7] \"       489000      \"             \"       990000      \"            \n",
      "  [9] \"       816218      \"             \"       560000      \"            \n",
      " [11] \"       315000      \"             \"       335000      \"            \n",
      " [13] \"       310000      \"             \"       440000      \"            \n",
      " [15] \"       635000      \"             \"       544500      \"            \n",
      " [17] \"       765000      \"             \"       425000      \"            \n",
      " [19] \"       510000      \"             \"       600000      \"            \n",
      " [21] \"       750000      \"             \"       340000      \"            \n",
      " [23] \"       833896      \"             \"       382000      \"            \n",
      " [25] \"       1100000      \"            \"       450000      \"            \n",
      " [27] \"       588622      \"             \"       424200      \"            \n",
      " [29] \"       285000      \"             \"       1059415      \"           \n",
      " [31] \"       239000      \"             \"       288000      \"            \n",
      " [33] \"       460000      \"             \"       269000      \"            \n",
      " [35] \"       565000      \"             \"       700000      \"            \n",
      " [37] \"       775000      \"             \"       951580      \"            \n",
      " [39] \"       250000      \"             \"       850000      \"            \n",
      " [41] \"       654000      \"             \"       650000      \"            \n",
      " [43] \"       527000      \"             \"       437124      \"            \n",
      " [45] \"       674449      \"             \"       830000      \"            \n",
      " [47] \"       454500      \"             \"    Sob Consulta   \"            \n",
      " [49] \"       4750000      \"            \"       599000      \"            \n",
      " [51] \"       1115000      \"            \"       249999      \"            \n",
      " [53] \"       380000      \"             \"       750000         \"         \n",
      " [55] \"       841700      \"             \"       660000      \"            \n",
      " [57] \"       515855      \"             \"       640000      \"            \n",
      " [59] \"       530000      \"             \"       630000      \"            \n",
      " [61] \"       275000      \"             \"       410000      \"            \n",
      " [63] \"       406700      \"             \"       423600      \"            \n",
      " [65] \"       999600      \"             \"       639000      \"            \n",
      " [67] \"       370000      \"             \"       1190000      \"           \n",
      " [69] \"       758000      \"             \"       740000      \"            \n",
      " [71] \"       1250000      \"            \"       432000      \"            \n",
      " [73] \"       715000      \"             \"       415800      \"            \n",
      " [75] \"       290000      \"             \"       415600      \"            \n",
      " [77] \"       450100      \"             \"       330000      \"            \n",
      " [79] \"       456500      \"             \"       454000      \"            \n",
      " [81] \"       527500      \"             \"       317408      \"            \n",
      " [83] \"       236643      \"             \"       613000      \"            \n",
      " [85] \"       385100      \"             \"       230225      \"            \n",
      " [87] \"       701600      \"             \"       325000      \"            \n",
      " [89] \"       3586558      \"            \"       397800      \"            \n",
      " [91] \"       436200      \"             \"       466800      \"            \n",
      " [93] \"  A partir de      730000      \" \"       556600      \"            \n",
      " [95] \"       626400      \"             \"  A partir de      550000      \"\n",
      " [97] \"  A partir de      340000      \" \"       492300      \"            \n",
      " [99] \"       430000      \"             \"       653500      \"            \n",
      "[101] \"       2008659      \"            \"       581500      \"            \n",
      "[103] \"       878000      \"            \n",
      "\n"
     ]
    }
   ],
   "source": [
    "valores_unicos <- lapply(df, unique)\n",
    "names(valores_unicos) <- names(df)\n",
    "\n",
    "print(valores_unicos)"
   ]
  },
  {
   "cell_type": "code",
   "execution_count": 9,
   "metadata": {
    "executionInfo": {
     "elapsed": 33,
     "status": "ok",
     "timestamp": 1691520271361,
     "user": {
      "displayName": "Otacílio José Oliveira Fonseca",
      "userId": "11821168323875409957"
     },
     "user_tz": 180
    },
    "id": "4Tlxz1VDGScX"
   },
   "outputs": [],
   "source": [
    "# Excluir as linhas que contenham o caractere '-' em qualquer coluna\n",
    "df <- subset(df, !grepl(\"-\", area) & !grepl(\"-\", quartos) & !grepl(\"-\", banheiros) & !grepl(\"-\", garagem))"
   ]
  },
  {
   "cell_type": "code",
   "execution_count": 10,
   "metadata": {
    "colab": {
     "base_uri": "https://localhost:8080/"
    },
    "executionInfo": {
     "elapsed": 34,
     "status": "ok",
     "timestamp": 1691520271362,
     "user": {
      "displayName": "Otacílio José Oliveira Fonseca",
      "userId": "11821168323875409957"
     },
     "user_tz": 180
    },
    "id": "yZ078yIvG5oP",
    "outputId": "b7318e9a-4ad3-4612-cf46-b33ae7e10823"
   },
   "outputs": [
    {
     "name": "stdout",
     "output_type": "stream",
     "text": [
      "$area\n",
      " [1] \" 64 \"  \" 74 \"  \" 60 \"  \" 93 \"  \" 106 \" \" 68 \"  \" 49 \"  \" 130 \" \" 103 \"\n",
      "[10] \" 87 \"  \" 54 \"  \" 71 \"  \" 86 \"  \" 63 \"  \" 89 \"  \" 108 \" \" 83 \"  \" 80 \" \n",
      "[19] \" 150 \" \" 88 \"  \" 100 \" \" 75 \"  \" 120 \" \" 78 \"  \" 91 \"  \" 90 \"  \" 101 \"\n",
      "[28] \" 57 \"  \" 67 \"  \" 56 \"  \" 131 \" \" 99 \"  \" 58 \"  \" 111 \" \" 98 \"  \" 94 \" \n",
      "[37] \" 72 \"  \" 62 \"  \" 125 \" \" 450 \" \" 59 \"  \" 79 \"  \" 84 \"  \" 76 \"  \" 148 \"\n",
      "[46] \" 191 \" \" 105 \" \" 340 \" \" 52 \"  \" 96 \"  \" 135 \" \" 219 \" \" 280 \" \" 167 \"\n",
      "[55] \" 119 \"\n",
      "\n",
      "$quartos\n",
      "[1] \" 2 \" \" 3 \" \" 1 \" \" 4 \" \" 5 \" \" 6 \"\n",
      "\n",
      "$banheiros\n",
      "[1] \"  2     \" \"  4     \" \"  1     \" \"  5     \" \"  3     \" \"  6     \"\n",
      "\n",
      "$garagem\n",
      "[1] \"  2     \" \"  1     \" \"  3     \" \"  5     \" \"  4     \"\n",
      "\n",
      "$preco\n",
      " [1] \"       360000      \"  \"       386400      \"  \"       280000      \" \n",
      " [4] \"       690000      \"  \"       698000      \"  \"       550000      \" \n",
      " [7] \"       489000      \"  \"       990000      \"  \"       816218      \" \n",
      "[10] \"       560000      \"  \"       315000      \"  \"       335000      \" \n",
      "[13] \"       310000      \"  \"       440000      \"  \"       635000      \" \n",
      "[16] \"       765000      \"  \"       425000      \"  \"       510000      \" \n",
      "[19] \"       600000      \"  \"       750000      \"  \"       340000      \" \n",
      "[22] \"       833896      \"  \"       382000      \"  \"       1100000      \"\n",
      "[25] \"       450000      \"  \"       588622      \"  \"       424200      \" \n",
      "[28] \"       285000      \"  \"       1059415      \" \"       239000      \" \n",
      "[31] \"       288000      \"  \"       460000      \"  \"       269000      \" \n",
      "[34] \"       700000      \"  \"       775000      \"  \"       250000      \" \n",
      "[37] \"       850000      \"  \"       650000      \"  \"       527000      \" \n",
      "[40] \"       437124      \"  \"       674449      \"  \"       830000      \" \n",
      "[43] \"       454500      \"  \"       4750000      \" \"       380000      \" \n",
      "[46] \"       660000      \"  \"       515855      \"  \"       640000      \" \n",
      "[49] \"       530000      \"  \"       630000      \"  \"       275000      \" \n",
      "[52] \"       410000      \"  \"       406700      \"  \"       423600      \" \n",
      "[55] \"       999600      \"  \"       639000      \"  \"    Sob Consulta   \" \n",
      "[58] \"       1190000      \" \"       249999      \"  \"       758000      \" \n",
      "[61] \"       740000      \"  \"       1250000      \" \"       432000      \" \n",
      "[64] \"       415800      \"  \"       290000      \"  \"       450100      \" \n",
      "[67] \"       527500      \"  \"       325000      \"  \"       3586558      \"\n",
      "[70] \"       436200      \"  \"       2008659      \" \"       878000      \" \n",
      "\n"
     ]
    }
   ],
   "source": [
    "valores_unicos <- lapply(df, unique)\n",
    "names(valores_unicos) <- names(df)\n",
    "\n",
    "print(valores_unicos)"
   ]
  },
  {
   "cell_type": "code",
   "execution_count": 11,
   "metadata": {
    "executionInfo": {
     "elapsed": 366,
     "status": "ok",
     "timestamp": 1691520271699,
     "user": {
      "displayName": "Otacílio José Oliveira Fonseca",
      "userId": "11821168323875409957"
     },
     "user_tz": 180
    },
    "id": "9vUvwl4_G6ks"
   },
   "outputs": [],
   "source": [
    "# Excluir as linhas que contenham o caractere 'Sob Consulta' em qualquer coluna\n",
    "df <- subset(df, !grepl(\"Sob Consulta\", preco))"
   ]
  },
  {
   "cell_type": "code",
   "execution_count": 12,
   "metadata": {
    "colab": {
     "base_uri": "https://localhost:8080/"
    },
    "executionInfo": {
     "elapsed": 39,
     "status": "ok",
     "timestamp": 1691520271701,
     "user": {
      "displayName": "Otacílio José Oliveira Fonseca",
      "userId": "11821168323875409957"
     },
     "user_tz": 180
    },
    "id": "EdzA8UGuHQeU",
    "outputId": "1ba1eeb9-c51f-4ad0-db09-9bfac7c6c5a7"
   },
   "outputs": [
    {
     "name": "stdout",
     "output_type": "stream",
     "text": [
      "$area\n",
      " [1] \" 64 \"  \" 74 \"  \" 60 \"  \" 93 \"  \" 106 \" \" 68 \"  \" 49 \"  \" 130 \" \" 103 \"\n",
      "[10] \" 87 \"  \" 54 \"  \" 71 \"  \" 86 \"  \" 63 \"  \" 89 \"  \" 108 \" \" 83 \"  \" 80 \" \n",
      "[19] \" 150 \" \" 88 \"  \" 100 \" \" 75 \"  \" 120 \" \" 78 \"  \" 91 \"  \" 90 \"  \" 101 \"\n",
      "[28] \" 57 \"  \" 67 \"  \" 56 \"  \" 131 \" \" 99 \"  \" 58 \"  \" 111 \" \" 98 \"  \" 94 \" \n",
      "[37] \" 72 \"  \" 62 \"  \" 125 \" \" 450 \" \" 59 \"  \" 79 \"  \" 84 \"  \" 76 \"  \" 191 \"\n",
      "[46] \" 105 \" \" 340 \" \" 52 \"  \" 280 \" \" 167 \" \" 119 \"\n",
      "\n",
      "$quartos\n",
      "[1] \" 2 \" \" 3 \" \" 1 \" \" 4 \" \" 5 \" \" 6 \"\n",
      "\n",
      "$banheiros\n",
      "[1] \"  2     \" \"  4     \" \"  1     \" \"  5     \" \"  3     \"\n",
      "\n",
      "$garagem\n",
      "[1] \"  2     \" \"  1     \" \"  3     \" \"  5     \" \"  4     \"\n",
      "\n",
      "$preco\n",
      " [1] \"       360000      \"  \"       386400      \"  \"       280000      \" \n",
      " [4] \"       690000      \"  \"       698000      \"  \"       550000      \" \n",
      " [7] \"       489000      \"  \"       990000      \"  \"       816218      \" \n",
      "[10] \"       560000      \"  \"       315000      \"  \"       335000      \" \n",
      "[13] \"       310000      \"  \"       440000      \"  \"       635000      \" \n",
      "[16] \"       765000      \"  \"       425000      \"  \"       510000      \" \n",
      "[19] \"       600000      \"  \"       750000      \"  \"       340000      \" \n",
      "[22] \"       833896      \"  \"       382000      \"  \"       1100000      \"\n",
      "[25] \"       450000      \"  \"       588622      \"  \"       424200      \" \n",
      "[28] \"       285000      \"  \"       1059415      \" \"       239000      \" \n",
      "[31] \"       288000      \"  \"       460000      \"  \"       269000      \" \n",
      "[34] \"       700000      \"  \"       775000      \"  \"       250000      \" \n",
      "[37] \"       850000      \"  \"       650000      \"  \"       527000      \" \n",
      "[40] \"       437124      \"  \"       674449      \"  \"       830000      \" \n",
      "[43] \"       454500      \"  \"       4750000      \" \"       380000      \" \n",
      "[46] \"       660000      \"  \"       515855      \"  \"       640000      \" \n",
      "[49] \"       530000      \"  \"       630000      \"  \"       275000      \" \n",
      "[52] \"       410000      \"  \"       406700      \"  \"       423600      \" \n",
      "[55] \"       999600      \"  \"       639000      \"  \"       1190000      \"\n",
      "[58] \"       249999      \"  \"       758000      \"  \"       740000      \" \n",
      "[61] \"       1250000      \" \"       432000      \"  \"       415800      \" \n",
      "[64] \"       290000      \"  \"       450100      \"  \"       527500      \" \n",
      "[67] \"       325000      \"  \"       3586558      \" \"       436200      \" \n",
      "[70] \"       2008659      \" \"       878000      \" \n",
      "\n"
     ]
    }
   ],
   "source": [
    "valores_unicos <- lapply(df, unique)\n",
    "names(valores_unicos) <- names(df)\n",
    "\n",
    "print(valores_unicos)"
   ]
  },
  {
   "cell_type": "code",
   "execution_count": 13,
   "metadata": {
    "executionInfo": {
     "elapsed": 39,
     "status": "ok",
     "timestamp": 1691520271702,
     "user": {
      "displayName": "Otacílio José Oliveira Fonseca",
      "userId": "11821168323875409957"
     },
     "user_tz": 180
    },
    "id": "YOQr_JTKHSaE"
   },
   "outputs": [],
   "source": [
    "# Converter area em inteiro\n",
    "df$area <- as.integer(df$area)\n",
    "# Converter quartos em inteiro\n",
    "df$quartos <- as.integer(df$quartos)\n",
    "# Converter banheiros em inteiro\n",
    "df$banheiros <- as.integer(df$banheiros)\n",
    "# Converter garagem em inteiro\n",
    "df$garagem <- as.integer(df$garagem)\n",
    "# Converter preco em inteiro\n",
    "df$preco <- as.integer(df$preco)"
   ]
  },
  {
   "cell_type": "code",
   "execution_count": 14,
   "metadata": {
    "colab": {
     "base_uri": "https://localhost:8080/"
    },
    "executionInfo": {
     "elapsed": 43,
     "status": "ok",
     "timestamp": 1691520271707,
     "user": {
      "displayName": "Otacílio José Oliveira Fonseca",
      "userId": "11821168323875409957"
     },
     "user_tz": 180
    },
    "id": "iM_ilKRyH1M0",
    "outputId": "9e547e5e-b72b-4efa-af98-43257a4c9ace"
   },
   "outputs": [
    {
     "name": "stdout",
     "output_type": "stream",
     "text": [
      "'data.frame':\t17661 obs. of  5 variables:\n",
      " $ area     : int  64 74 60 93 106 68 49 130 103 87 ...\n",
      " $ quartos  : int  2 2 2 3 2 1 2 2 1 3 ...\n",
      " $ banheiros: int  2 2 2 4 4 2 1 5 4 5 ...\n",
      " $ garagem  : int  2 1 1 2 2 1 1 3 2 2 ...\n",
      " $ preco    : int  360000 386400 280000 690000 698000 550000 489000 990000 816218 560000 ...\n"
     ]
    }
   ],
   "source": [
    "str(df)"
   ]
  },
  {
   "cell_type": "code",
   "execution_count": 15,
   "metadata": {
    "colab": {
     "base_uri": "https://localhost:8080/",
     "height": 275
    },
    "executionInfo": {
     "elapsed": 43,
     "status": "ok",
     "timestamp": 1691520271710,
     "user": {
      "displayName": "Otacílio José Oliveira Fonseca",
      "userId": "11821168323875409957"
     },
     "user_tz": 180
    },
    "id": "vmlJf3wTH6OP",
    "outputId": "bd693394-a546-4e45-93b9-f2ebc601e564"
   },
   "outputs": [
    {
     "data": {
      "text/plain": [
       "      area           quartos        banheiros        garagem     \n",
       " Min.   : 49.00   Min.   :1.000   Min.   :1.000   Min.   :1.000  \n",
       " 1st Qu.: 68.00   1st Qu.:2.000   1st Qu.:2.000   1st Qu.:1.000  \n",
       " Median : 87.00   Median :2.000   Median :3.000   Median :2.000  \n",
       " Mean   : 87.71   Mean   :2.428   Mean   :2.996   Mean   :1.662  \n",
       " 3rd Qu.:100.00   3rd Qu.:3.000   3rd Qu.:4.000   3rd Qu.:2.000  \n",
       " Max.   :450.00   Max.   :6.000   Max.   :5.000   Max.   :5.000  \n",
       "     preco        \n",
       " Min.   : 239000  \n",
       " 1st Qu.: 406700  \n",
       " Median : 550000  \n",
       " Mean   : 581262  \n",
       " 3rd Qu.: 700000  \n",
       " Max.   :4750000  "
      ]
     },
     "metadata": {},
     "output_type": "display_data"
    }
   ],
   "source": [
    "summary(df)"
   ]
  },
  {
   "cell_type": "code",
   "execution_count": 16,
   "metadata": {
    "colab": {
     "base_uri": "https://localhost:8080/",
     "height": 437
    },
    "executionInfo": {
     "elapsed": 43,
     "status": "ok",
     "timestamp": 1691520271711,
     "user": {
      "displayName": "Otacílio José Oliveira Fonseca",
      "userId": "11821168323875409957"
     },
     "user_tz": 180
    },
    "id": "kkaMLBhuIK1m",
    "outputId": "d29170e2-0fee-4b25-cca5-5ce0c6938397"
   },
   "outputs": [
    {
     "data": {
      "image/png": "[encoded data removed]",
      "text/plain": [
       "Plot with title “BoxPlot da area”"
      ]
     },
     "metadata": {
      "image/png": {
       "height": 420,
       "width": 420
      }
     },
     "output_type": "display_data"
    }
   ],
   "source": [
    "# Boxplot para a area\n",
    "boxplot(df$area, main=\"BoxPlot da area\", ylab=\"Área\")"
   ]
  },
  {
   "cell_type": "code",
   "execution_count": 17,
   "metadata": {
    "colab": {
     "base_uri": "https://localhost:8080/",
     "height": 437
    },
    "executionInfo": {
     "elapsed": 361,
     "status": "ok",
     "timestamp": 1691520272034,
     "user": {
      "displayName": "Otacílio José Oliveira Fonseca",
      "userId": "11821168323875409957"
     },
     "user_tz": 180
    },
    "id": "q8coNwBYIbum",
    "outputId": "4b271cd1-8fb6-489a-f29d-8221d2599091"
   },
   "outputs": [
    {
     "data": {
      "image/png": "[encoded data removed]",
      "text/plain": [
       "Plot with title “BoxPlot da coluna quartos”"
      ]
     },
     "metadata": {
      "image/png": {
       "height": 420,
       "width": 420
      }
     },
     "output_type": "display_data"
    }
   ],
   "source": [
    "# Bboxplot para a quartos\n",
    "boxplot(df$quartos, main=\"BoxPlot da coluna quartos\", ylab=\"QTDE de Quartos\")"
   ]
  },
  {
   "cell_type": "code",
   "execution_count": 18,
   "metadata": {
    "colab": {
     "base_uri": "https://localhost:8080/",
     "height": 437
    },
    "executionInfo": {
     "elapsed": 31,
     "status": "ok",
     "timestamp": 1691520272044,
     "user": {
      "displayName": "Otacílio José Oliveira Fonseca",
      "userId": "11821168323875409957"
     },
     "user_tz": 180
    },
    "id": "qPWx4w3AIqSH",
    "outputId": "584e37f8-cd9a-41ed-98e4-b721304e40f3"
   },
   "outputs": [
    {
     "data": {
      "image/png": "[encoded data removed]",
      "text/plain": [
       "Plot with title “BoxPlot da coluna banheiros”"
      ]
     },
     "metadata": {
      "image/png": {
       "height": 420,
       "width": 420
      }
     },
     "output_type": "display_data"
    }
   ],
   "source": [
    "# Boxplot para a banheiros\n",
    "boxplot(df$banheiros, main=\"BoxPlot da coluna banheiros\", ylab=\"QTDE de banheiros\")"
   ]
  },
  {
   "cell_type": "code",
   "execution_count": 19,
   "metadata": {
    "colab": {
     "base_uri": "https://localhost:8080/",
     "height": 437
    },
    "executionInfo": {
     "elapsed": 31,
     "status": "ok",
     "timestamp": 1691520272045,
     "user": {
      "displayName": "Otacílio José Oliveira Fonseca",
      "userId": "11821168323875409957"
     },
     "user_tz": 180
    },
    "id": "X0oaG-IOJQ2v",
    "outputId": "ca0156b5-704f-478a-83dd-665c8a0eecc6"
   },
   "outputs": [
    {
     "data": {
      "image/png": "[encoded data removed]",
      "text/plain": [
       "Plot with title “BoxPlot da coluna garagem”"
      ]
     },
     "metadata": {
      "image/png": {
       "height": 420,
       "width": 420
      }
     },
     "output_type": "display_data"
    }
   ],
   "source": [
    "# Boxplot para a garagem\n",
    "boxplot(df$garagem, main=\"BoxPlot da coluna garagem\", ylab=\"QTDE de vagas na garagem\")"
   ]
  },
  {
   "cell_type": "code",
   "execution_count": 20,
   "metadata": {
    "colab": {
     "base_uri": "https://localhost:8080/",
     "height": 437
    },
    "executionInfo": {
     "elapsed": 31,
     "status": "ok",
     "timestamp": 1691520272046,
     "user": {
      "displayName": "Otacílio José Oliveira Fonseca",
      "userId": "11821168323875409957"
     },
     "user_tz": 180
    },
    "id": "EyHoBAsnJXdP",
    "outputId": "1481b224-ede7-4be9-b2ed-b916acec54ad"
   },
   "outputs": [
    {
     "data": {
      "image/png": "[encoded data removed]",
      "text/plain": [
       "Plot with title “BoxPlot da coluna preco”"
      ]
     },
     "metadata": {
      "image/png": {
       "height": 420,
       "width": 420
      }
     },
     "output_type": "display_data"
    }
   ],
   "source": [
    "# Boxplot para a preco\n",
    "boxplot(df$preco, main=\"BoxPlot da coluna preco\", ylab=\"Preço\")"
   ]
  },
  {
   "cell_type": "code",
   "execution_count": 21,
   "metadata": {
    "colab": {
     "base_uri": "https://localhost:8080/",
     "height": 617
    },
    "executionInfo": {
     "elapsed": 416,
     "status": "ok",
     "timestamp": 1691520272432,
     "user": {
      "displayName": "Otacílio José Oliveira Fonseca",
      "userId": "11821168323875409957"
     },
     "user_tz": 180
    },
    "id": "c2bf4vEmJdFn",
    "outputId": "b9f2ff56-852e-40e7-f305-48f86d65e31c"
   },
   "outputs": [
    {
     "data": {
      "image/png": "[encoded data removed]",
      "text/plain": [
       "Plot with title “Contagem de Valores”"
      ]
     },
     "metadata": {
      "image/png": {
       "height": 600,
       "width": 840
      }
     },
     "output_type": "display_data"
    }
   ],
   "source": [
    "# Calcular a contagem de valores únicos na coluna \"preco\"\n",
    "contagem_valores <- table(df$preco)\n",
    "\n",
    "# Configurar as dimensões da área de plotagem\n",
    "par(mar = c(5, 5, 4, 2))  # margens esquerda, direita, superior, inferior\n",
    "options(repr.plot.width = 14, repr.plot.height = 10)  # tamanho total do gráfico\n",
    "\n",
    "# Criar um gráfico de barras da contagem de valores\n",
    "barplot(contagem_valores, main = \"Contagem de Valores\",\n",
    "        xlab = \"Preços\", ylab = \"Contagem\", col='blue')"
   ]
  },
  {
   "cell_type": "code",
   "execution_count": 22,
   "metadata": {
    "colab": {
     "base_uri": "https://localhost:8080/",
     "height": 286
    },
    "executionInfo": {
     "elapsed": 19,
     "status": "ok",
     "timestamp": 1691520272435,
     "user": {
      "displayName": "Otacílio José Oliveira Fonseca",
      "userId": "11821168323875409957"
     },
     "user_tz": 180
    },
    "id": "6NrRnrM7JsIX",
    "outputId": "8e839933-d43e-4100-de12-d61762e39881"
   },
   "outputs": [
    {
     "data": {
      "text/html": [
       "<table class=\"dataframe\">\n",
       "<caption>A data.frame: 6 × 5</caption>\n",
       "<thead>\n",
       "\t<tr><th></th><th scope=col>area</th><th scope=col>quartos</th><th scope=col>banheiros</th><th scope=col>garagem</th><th scope=col>preco</th></tr>\n",
       "\t<tr><th></th><th scope=col>&lt;int&gt;</th><th scope=col>&lt;int&gt;</th><th scope=col>&lt;int&gt;</th><th scope=col>&lt;int&gt;</th><th scope=col>&lt;int&gt;</th></tr>\n",
       "</thead>\n",
       "<tbody>\n",
       "\t<tr><th scope=row>1</th><td> 64</td><td>2</td><td>2</td><td>2</td><td>360000</td></tr>\n",
       "\t<tr><th scope=row>2</th><td> 74</td><td>2</td><td>2</td><td>1</td><td>386400</td></tr>\n",
       "\t<tr><th scope=row>3</th><td> 60</td><td>2</td><td>2</td><td>1</td><td>280000</td></tr>\n",
       "\t<tr><th scope=row>4</th><td> 93</td><td>3</td><td>4</td><td>2</td><td>690000</td></tr>\n",
       "\t<tr><th scope=row>5</th><td>106</td><td>2</td><td>4</td><td>2</td><td>698000</td></tr>\n",
       "\t<tr><th scope=row>6</th><td> 68</td><td>1</td><td>2</td><td>1</td><td>550000</td></tr>\n",
       "</tbody>\n",
       "</table>\n"
      ],
      "text/latex": [
       "A data.frame: 6 × 5\n",
       "\\begin{tabular}{r|lllll}\n",
       "  & area & quartos & banheiros & garagem & preco\\\\\n",
       "  & <int> & <int> & <int> & <int> & <int>\\\\\n",
       "\\hline\n",
       "\t1 &  64 & 2 & 2 & 2 & 360000\\\\\n",
       "\t2 &  74 & 2 & 2 & 1 & 386400\\\\\n",
       "\t3 &  60 & 2 & 2 & 1 & 280000\\\\\n",
       "\t4 &  93 & 3 & 4 & 2 & 690000\\\\\n",
       "\t5 & 106 & 2 & 4 & 2 & 698000\\\\\n",
       "\t6 &  68 & 1 & 2 & 1 & 550000\\\\\n",
       "\\end{tabular}\n"
      ],
      "text/markdown": [
       "\n",
       "A data.frame: 6 × 5\n",
       "\n",
       "| <!--/--> | area &lt;int&gt; | quartos &lt;int&gt; | banheiros &lt;int&gt; | garagem &lt;int&gt; | preco &lt;int&gt; |\n",
       "|---|---|---|---|---|---|\n",
       "| 1 |  64 | 2 | 2 | 2 | 360000 |\n",
       "| 2 |  74 | 2 | 2 | 1 | 386400 |\n",
       "| 3 |  60 | 2 | 2 | 1 | 280000 |\n",
       "| 4 |  93 | 3 | 4 | 2 | 690000 |\n",
       "| 5 | 106 | 2 | 4 | 2 | 698000 |\n",
       "| 6 |  68 | 1 | 2 | 1 | 550000 |\n",
       "\n"
      ],
      "text/plain": [
       "  area quartos banheiros garagem preco \n",
       "1  64  2       2         2       360000\n",
       "2  74  2       2         1       386400\n",
       "3  60  2       2         1       280000\n",
       "4  93  3       4         2       690000\n",
       "5 106  2       4         2       698000\n",
       "6  68  1       2         1       550000"
      ]
     },
     "metadata": {},
     "output_type": "display_data"
    }
   ],
   "source": [
    "head(df)"
   ]
  },
  {
   "cell_type": "code",
   "execution_count": 23,
   "metadata": {
    "executionInfo": {
     "elapsed": 20,
     "status": "ok",
     "timestamp": 1691520272437,
     "user": {
      "displayName": "Otacílio José Oliveira Fonseca",
      "userId": "11821168323875409957"
     },
     "user_tz": 180
    },
    "id": "5wwHLGWyMZ0u"
   },
   "outputs": [],
   "source": [
    "# selecionando somente as linhas menor os igual a um milhão e quinhetos mil\n",
    "df <- subset(df, preco <= 1500000)"
   ]
  },
  {
   "cell_type": "code",
   "execution_count": 24,
   "metadata": {
    "colab": {
     "base_uri": "https://localhost:8080/",
     "height": 617
    },
    "executionInfo": {
     "elapsed": 474,
     "status": "ok",
     "timestamp": 1691520272892,
     "user": {
      "displayName": "Otacílio José Oliveira Fonseca",
      "userId": "11821168323875409957"
     },
     "user_tz": 180
    },
    "id": "52VNmZNqMjN3",
    "outputId": "c7b38c0e-ff04-4c34-e764-a1559007fbcb"
   },
   "outputs": [
    {
     "data": {
      "image/png": "[encoded data removed]",
      "text/plain": [
       "Plot with title “Contagem de Valores”"
      ]
     },
     "metadata": {
      "image/png": {
       "height": 600,
       "width": 840
      }
     },
     "output_type": "display_data"
    }
   ],
   "source": [
    "# Calcular a contagem de valores únicos na coluna \"preco\"\n",
    "contagem_valores <- table(df$preco)\n",
    "\n",
    "# Configurar as dimensões da área de plotagem\n",
    "par(mar = c(5, 5, 4, 2))  # margens esquerda, direita, superior, inferior\n",
    "options(repr.plot.width = 14, repr.plot.height = 10)  # tamanho total do gráfico\n",
    "\n",
    "# Criar um gráfico de barras da contagem de valores\n",
    "barplot(contagem_valores, main = \"Contagem de Valores\",\n",
    "        xlab = \"Preços\", ylab = \"Contagem\", col='blue')"
   ]
  },
  {
   "cell_type": "code",
   "execution_count": 25,
   "metadata": {
    "colab": {
     "base_uri": "https://localhost:8080/",
     "height": 286
    },
    "executionInfo": {
     "elapsed": 28,
     "status": "ok",
     "timestamp": 1691520272893,
     "user": {
      "displayName": "Otacílio José Oliveira Fonseca",
      "userId": "11821168323875409957"
     },
     "user_tz": 180
    },
    "id": "HKhff3ECPPSj",
    "outputId": "a4ff2d53-01bf-434f-c501-bf01f4f9e251"
   },
   "outputs": [
    {
     "data": {
      "text/html": [
       "<table class=\"dataframe\">\n",
       "<caption>A data.frame: 6 × 5</caption>\n",
       "<thead>\n",
       "\t<tr><th></th><th scope=col>area</th><th scope=col>quartos</th><th scope=col>banheiros</th><th scope=col>garagem</th><th scope=col>preco</th></tr>\n",
       "\t<tr><th></th><th scope=col>&lt;int&gt;</th><th scope=col>&lt;int&gt;</th><th scope=col>&lt;int&gt;</th><th scope=col>&lt;int&gt;</th><th scope=col>&lt;int&gt;</th></tr>\n",
       "</thead>\n",
       "<tbody>\n",
       "\t<tr><th scope=row>1</th><td> 64</td><td>2</td><td>2</td><td>2</td><td>360000</td></tr>\n",
       "\t<tr><th scope=row>2</th><td> 74</td><td>2</td><td>2</td><td>1</td><td>386400</td></tr>\n",
       "\t<tr><th scope=row>3</th><td> 60</td><td>2</td><td>2</td><td>1</td><td>280000</td></tr>\n",
       "\t<tr><th scope=row>4</th><td> 93</td><td>3</td><td>4</td><td>2</td><td>690000</td></tr>\n",
       "\t<tr><th scope=row>5</th><td>106</td><td>2</td><td>4</td><td>2</td><td>698000</td></tr>\n",
       "\t<tr><th scope=row>6</th><td> 68</td><td>1</td><td>2</td><td>1</td><td>550000</td></tr>\n",
       "</tbody>\n",
       "</table>\n"
      ],
      "text/latex": [
       "A data.frame: 6 × 5\n",
       "\\begin{tabular}{r|lllll}\n",
       "  & area & quartos & banheiros & garagem & preco\\\\\n",
       "  & <int> & <int> & <int> & <int> & <int>\\\\\n",
       "\\hline\n",
       "\t1 &  64 & 2 & 2 & 2 & 360000\\\\\n",
       "\t2 &  74 & 2 & 2 & 1 & 386400\\\\\n",
       "\t3 &  60 & 2 & 2 & 1 & 280000\\\\\n",
       "\t4 &  93 & 3 & 4 & 2 & 690000\\\\\n",
       "\t5 & 106 & 2 & 4 & 2 & 698000\\\\\n",
       "\t6 &  68 & 1 & 2 & 1 & 550000\\\\\n",
       "\\end{tabular}\n"
      ],
      "text/markdown": [
       "\n",
       "A data.frame: 6 × 5\n",
       "\n",
       "| <!--/--> | area &lt;int&gt; | quartos &lt;int&gt; | banheiros &lt;int&gt; | garagem &lt;int&gt; | preco &lt;int&gt; |\n",
       "|---|---|---|---|---|---|\n",
       "| 1 |  64 | 2 | 2 | 2 | 360000 |\n",
       "| 2 |  74 | 2 | 2 | 1 | 386400 |\n",
       "| 3 |  60 | 2 | 2 | 1 | 280000 |\n",
       "| 4 |  93 | 3 | 4 | 2 | 690000 |\n",
       "| 5 | 106 | 2 | 4 | 2 | 698000 |\n",
       "| 6 |  68 | 1 | 2 | 1 | 550000 |\n",
       "\n"
      ],
      "text/plain": [
       "  area quartos banheiros garagem preco \n",
       "1  64  2       2         2       360000\n",
       "2  74  2       2         1       386400\n",
       "3  60  2       2         1       280000\n",
       "4  93  3       4         2       690000\n",
       "5 106  2       4         2       698000\n",
       "6  68  1       2         1       550000"
      ]
     },
     "metadata": {},
     "output_type": "display_data"
    }
   ],
   "source": [
    "head(df)"
   ]
  },
  {
   "cell_type": "markdown",
   "metadata": {
    "id": "KLmBa4e2WEgo"
   },
   "source": [
    "# Dividindo os dados em Treino e Teste"
   ]
  },
  {
   "cell_type": "code",
   "execution_count": 26,
   "metadata": {
    "executionInfo": {
     "elapsed": 28,
     "status": "ok",
     "timestamp": 1691520272894,
     "user": {
      "displayName": "Otacílio José Oliveira Fonseca",
      "userId": "11821168323875409957"
     },
     "user_tz": 180
    },
    "id": "dkMymR_2PWCs"
   },
   "outputs": [],
   "source": [
    "# Dividir os dados em treinamento e teste\n",
    "prop_treino <- 0.7\n",
    "n_treino <- round(prop_treino * nrow(df))\n",
    "\n",
    "dados_treino <- df[1:n_treino, ]\n",
    "dados_teste <- df[(n_treino + 1):nrow(df), ]\n",
    "\n",
    "# Amostragem aleatória para conjuntos de treinamento e validação\n",
    "set.seed(123)  # Define uma semente para a reprodutibilidade\n",
    "indices_treino <- sample(nrow(df), n_treino)\n",
    "dados_treino <- df[indices_treino, ]\n",
    "dados_validacao <- df[-indices_treino, ]"
   ]
  },
  {
   "cell_type": "code",
   "execution_count": 27,
   "metadata": {
    "colab": {
     "base_uri": "https://localhost:8080/"
    },
    "executionInfo": {
     "elapsed": 29,
     "status": "ok",
     "timestamp": 1691520272895,
     "user": {
      "displayName": "Otacílio José Oliveira Fonseca",
      "userId": "11821168323875409957"
     },
     "user_tz": 180
    },
    "id": "eqjxxHjQPvzt",
    "outputId": "819bc924-e216-46e0-9478-1127d784e730"
   },
   "outputs": [
    {
     "name": "stdout",
     "output_type": "stream",
     "text": [
      "'data.frame':\t12328 obs. of  5 variables:\n",
      " $ area     : int  72 67 111 111 80 100 80 71 80 78 ...\n",
      " $ quartos  : int  1 4 1 3 1 1 4 2 4 4 ...\n",
      " $ banheiros: int  2 2 4 4 3 4 3 1 3 2 ...\n",
      " $ garagem  : int  1 1 2 2 2 1 2 1 2 2 ...\n",
      " $ preco    : int  527000 515855 850000 850000 600000 833896 600000 674449 600000 450000 ...\n"
     ]
    }
   ],
   "source": [
    "str(dados_treino)"
   ]
  },
  {
   "cell_type": "code",
   "execution_count": 28,
   "metadata": {
    "colab": {
     "base_uri": "https://localhost:8080/"
    },
    "executionInfo": {
     "elapsed": 28,
     "status": "ok",
     "timestamp": 1691520272896,
     "user": {
      "displayName": "Otacílio José Oliveira Fonseca",
      "userId": "11821168323875409957"
     },
     "user_tz": 180
    },
    "id": "kS3rN0WMQeuO",
    "outputId": "014a9159-3351-4e15-8985-999a6a355218"
   },
   "outputs": [
    {
     "name": "stdout",
     "output_type": "stream",
     "text": [
      "'data.frame':\t5283 obs. of  5 variables:\n",
      " $ area     : int  130 74 100 120 90 101 67 56 64 49 ...\n",
      " $ quartos  : int  2 2 5 3 5 2 2 1 2 3 ...\n",
      " $ banheiros: int  5 2 4 4 4 3 2 2 2 1 ...\n",
      " $ garagem  : int  3 1 1 2 2 1 1 1 2 1 ...\n",
      " $ preco    : int  990000 335000 833896 1100000 690000 424200 460000 269000 360000 489000 ...\n"
     ]
    }
   ],
   "source": [
    "str(dados_validacao)"
   ]
  },
  {
   "cell_type": "code",
   "execution_count": 29,
   "metadata": {
    "executionInfo": {
     "elapsed": 23,
     "status": "ok",
     "timestamp": 1691520272898,
     "user": {
      "displayName": "Otacílio José Oliveira Fonseca",
      "userId": "11821168323875409957"
     },
     "user_tz": 180
    },
    "id": "izPagm7mUedC"
   },
   "outputs": [],
   "source": [
    "# Separar os dados em features (X) e variável alvo (y)\n",
    "X_treino <- dados_treino[, c(\"area\", \"quartos\", \"banheiros\", \"garagem\")]\n",
    "y_treino <- dados_treino$preco\n",
    "X_validacao <- dados_validacao[, c(\"area\", \"quartos\", \"banheiros\", \"garagem\")]\n",
    "y_validacao <- dados_validacao$preco"
   ]
  },
  {
   "cell_type": "code",
   "execution_count": 30,
   "metadata": {
    "executionInfo": {
     "elapsed": 24,
     "status": "ok",
     "timestamp": 1691520272900,
     "user": {
      "displayName": "Otacílio José Oliveira Fonseca",
      "userId": "11821168323875409957"
     },
     "user_tz": 180
    },
    "id": "vyu5eX3qYPAg"
   },
   "outputs": [],
   "source": [
    "# função das métricas e teste padrão\n",
    "\n",
    "avaliar_e_prever <- function(modelo) {\n",
    "  # Métricas de avaliação\n",
    "  previsoes_validacao <- predict(modelo, newdata = dados_validacao)\n",
    "  mae <- mean(abs(previsoes_validacao - dados_validacao$preco))\n",
    "  mse <- mean((previsoes_validacao - dados_validacao$preco)^2)\n",
    "  rmse <- sqrt(mean((previsoes_validacao - dados_validacao$preco)^2))\n",
    "  r2 <- 1 - sum((dados_validacao$preco - previsoes_validacao)^2) / sum((dados_validacao$preco - mean(dados_validacao$preco))^2)\n",
    "\n",
    "  # Exibindo as métricas arredondadas para 4 casas decimais\n",
    "  cat(\"Métricas de Avaliação:\\n\")\n",
    "  cat(paste(\"R²:\", round(r2, 4), \"\\n\"))\n",
    "  cat(paste(\"MAE:\", round(mae, 4), \"\\n\"))\n",
    "  cat(paste(\"MSE:\", round(mse, 4), \"\\n\"))\n",
    "  cat(paste(\"RMSE:\", round(rmse, 4), \"\\n\\n\"))\n",
    "\n",
    "  # Fazendo uma previsão usando o modelo\n",
    "  novo_dado <- data.frame(area = 120, quartos = 2, banheiros = 2, garagem = 1)\n",
    "  previsao <- predict(modelo, novo_dado)\n",
    "  previsao <- round(previsao, digits = 0)\n",
    "\n",
    "  # Exiba a previsão\n",
    "  cat(\"Previsão:\\n\")\n",
    "  cat(paste(\"Preço previsto:\", previsao, \"\\n\"))\n",
    "}"
   ]
  },
  {
   "cell_type": "markdown",
   "metadata": {
    "id": "RykEaKmEWEgr"
   },
   "source": [
    "# Modelo Árvore de decisão"
   ]
  },
  {
   "cell_type": "code",
   "execution_count": 31,
   "metadata": {
    "colab": {
     "base_uri": "https://localhost:8080/"
    },
    "executionInfo": {
     "elapsed": 9087,
     "status": "ok",
     "timestamp": 1691520281963,
     "user": {
      "displayName": "Otacílio José Oliveira Fonseca",
      "userId": "11821168323875409957"
     },
     "user_tz": 180
    },
    "id": "zrID8v_qg5r1",
    "outputId": "4a5b40bd-8d25-43e6-e9a9-f800d1c6f4d7"
   },
   "outputs": [
    {
     "name": "stderr",
     "output_type": "stream",
     "text": [
      "Installing package into ‘/usr/local/lib/R/site-library’\n",
      "(as ‘lib’ is unspecified)\n",
      "\n"
     ]
    },
    {
     "name": "stdout",
     "output_type": "stream",
     "text": [
      "Métricas de Avaliação:\n",
      "R²: 0.7372 \n",
      "MAE: 92777.4028 \n",
      "MSE: 12915874306.6916 \n",
      "RMSE: 113648.0282 \n",
      "\n",
      "Previsão:\n",
      "Preço previsto: 469766 \n"
     ]
    }
   ],
   "source": [
    "# Modelo Árvore de decisão\n",
    "\n",
    "# Instalar o pacote rpart (caso ainda não esteja instalado)\n",
    "install.packages(\"rpart\")\n",
    "\n",
    "# Carregar o pacote rpart\n",
    "library(rpart)\n",
    "\n",
    "# Criar o modelo de árvore de decisão\n",
    "modelo_arvore <- rpart(y_treino ~ ., data = X_treino, control = rpart.control(maxdepth = 2))\n",
    "\n",
    "# Fazer previsões para os dados de validação\n",
    "previsoes_validacao <- predict(modelo_arvore, newdata = X_validacao)\n",
    "\n",
    "# Usando a função para avaliar e prever\n",
    "avaliar_e_prever(modelo_arvore)"
   ]
  },
  {
   "cell_type": "markdown",
   "metadata": {
    "id": "Tuz__cg7WEgr"
   },
   "source": [
    "#### Calculando outros valores de maxdepth (profundidade)"
   ]
  },
  {
   "cell_type": "code",
   "execution_count": 32,
   "metadata": {
    "colab": {
     "base_uri": "https://localhost:8080/"
    },
    "executionInfo": {
     "elapsed": 925,
     "status": "ok",
     "timestamp": 1691520282856,
     "user": {
      "displayName": "Otacílio José Oliveira Fonseca",
      "userId": "11821168323875409957"
     },
     "user_tz": 180
    },
    "id": "VjPo7abeiVYF",
    "outputId": "a12a6275-c754-4e1f-dac9-98297cdddd0b"
   },
   "outputs": [
    {
     "name": "stdout",
     "output_type": "stream",
     "text": [
      "Profundidade: 2 \n",
      "Métricas de Avaliação:\n",
      "R²: 0.7372 \n",
      "MAE: 92777.4028 \n",
      "MSE: 12915874306.6916 \n",
      "RMSE: 113648.0282 \n",
      "\n",
      "Previsão:\n",
      "Preço previsto: 469766 \n",
      "Profundidade: 3 \n",
      "Métricas de Avaliação:\n",
      "R²: 0.8059 \n",
      "MAE: 75943.4647 \n",
      "MSE: 9538246040.5839 \n",
      "RMSE: 97663.9444 \n",
      "\n",
      "Previsão:\n",
      "Preço previsto: 460860 \n",
      "Profundidade: 4 \n",
      "Métricas de Avaliação:\n",
      "R²: 0.8381 \n",
      "MAE: 67880.8352 \n",
      "MSE: 7954063412.3352 \n",
      "RMSE: 89185.5561 \n",
      "\n",
      "Previsão:\n",
      "Preço previsto: 460860 \n",
      "Profundidade: 5 \n",
      "Métricas de Avaliação:\n",
      "R²: 0.8381 \n",
      "MAE: 67880.8352 \n",
      "MSE: 7954063412.3352 \n",
      "RMSE: 89185.5561 \n",
      "\n",
      "Previsão:\n",
      "Preço previsto: 460860 \n",
      "Profundidade: 6 \n",
      "Métricas de Avaliação:\n",
      "R²: 0.8381 \n",
      "MAE: 67880.8352 \n",
      "MSE: 7954063412.3352 \n",
      "RMSE: 89185.5561 \n",
      "\n",
      "Previsão:\n",
      "Preço previsto: 460860 \n",
      "Profundidade: 7 \n",
      "Métricas de Avaliação:\n",
      "R²: 0.8381 \n",
      "MAE: 67880.8352 \n",
      "MSE: 7954063412.3352 \n",
      "RMSE: 89185.5561 \n",
      "\n",
      "Previsão:\n",
      "Preço previsto: 460860 \n",
      "Profundidade: 8 \n",
      "Métricas de Avaliação:\n",
      "R²: 0.8381 \n",
      "MAE: 67880.8352 \n",
      "MSE: 7954063412.3352 \n",
      "RMSE: 89185.5561 \n",
      "\n",
      "Previsão:\n",
      "Preço previsto: 460860 \n",
      "Profundidade: 9 \n",
      "Métricas de Avaliação:\n",
      "R²: 0.8381 \n",
      "MAE: 67880.8352 \n",
      "MSE: 7954063412.3352 \n",
      "RMSE: 89185.5561 \n",
      "\n",
      "Previsão:\n",
      "Preço previsto: 460860 \n",
      "Profundidade: 10 \n",
      "Métricas de Avaliação:\n",
      "R²: 0.8381 \n",
      "MAE: 67880.8352 \n",
      "MSE: 7954063412.3352 \n",
      "RMSE: 89185.5561 \n",
      "\n",
      "Previsão:\n",
      "Preço previsto: 460860 \n",
      "Profundidade: 15 \n",
      "Métricas de Avaliação:\n",
      "R²: 0.8381 \n",
      "MAE: 67880.8352 \n",
      "MSE: 7954063412.3352 \n",
      "RMSE: 89185.5561 \n",
      "\n",
      "Previsão:\n",
      "Preço previsto: 460860 \n",
      "Profundidade: 20 \n",
      "Métricas de Avaliação:\n",
      "R²: 0.8381 \n",
      "MAE: 67880.8352 \n",
      "MSE: 7954063412.3352 \n",
      "RMSE: 89185.5561 \n",
      "\n",
      "Previsão:\n",
      "Preço previsto: 460860 \n",
      "Profundidade: 30 \n",
      "Métricas de Avaliação:\n",
      "R²: 0.8381 \n",
      "MAE: 67880.8352 \n",
      "MSE: 7954063412.3352 \n",
      "RMSE: 89185.5561 \n",
      "\n",
      "Previsão:\n",
      "Preço previsto: 460860 \n"
     ]
    }
   ],
   "source": [
    "# Valores de maxdepth para testar\n",
    "profundidades <- c(2,3,4,5,6,7,8,9,10,15,20,30)\n",
    "\n",
    "# loop de repetição da profundidade da árvore\n",
    "for (profundidade in profundidades){\n",
    "    cat(paste(\"Profundidade:\", profundidade , \"\\n\"))\n",
    "    # Criar o modelo de árvore de decisão usando os dados de treinamento\n",
    "    modelo_arvore <- rpart(y_treino ~ ., data = X_treino, control = rpart.control(maxdepth = profundidade))\n",
    "    # Fazer previsões para os dados de validação\n",
    "    previsoes_validacao <- predict(modelo_arvore, newdata = X_validacao)\n",
    "    # Usando a função para avaliar e prever\n",
    "    avaliar_e_prever(modelo_arvore)\n",
    "}"
   ]
  },
  {
   "cell_type": "markdown",
   "metadata": {
    "id": "Of9FXzaEWEgs"
   },
   "source": [
    "# Modelo Random Forest"
   ]
  },
  {
   "cell_type": "code",
   "execution_count": 33,
   "metadata": {
    "colab": {
     "base_uri": "https://localhost:8080/"
    },
    "executionInfo": {
     "elapsed": 12110,
     "status": "ok",
     "timestamp": 1691520294961,
     "user": {
      "displayName": "Otacílio José Oliveira Fonseca",
      "userId": "11821168323875409957"
     },
     "user_tz": 180
    },
    "id": "s37a_vyHR9R8",
    "outputId": "3a8a8f35-ac0e-4be3-90ce-5bf8e90b3e4b"
   },
   "outputs": [
    {
     "name": "stderr",
     "output_type": "stream",
     "text": [
      "Installing package into ‘/usr/local/lib/R/site-library’\n",
      "(as ‘lib’ is unspecified)\n",
      "\n",
      "randomForest 4.7-1.1\n",
      "\n",
      "Type rfNews() to see new features/changes/bug fixes.\n",
      "\n"
     ]
    },
    {
     "name": "stdout",
     "output_type": "stream",
     "text": [
      "Métricas de Avaliação:\n",
      "R²: 0.839 \n",
      "MAE: 67562.7029 \n",
      "MSE: 7911161773.1632 \n",
      "RMSE: 88944.7119 \n",
      "\n",
      "Previsão:\n",
      "Preço previsto: 502455 \n"
     ]
    }
   ],
   "source": [
    "# Modelo Random Forest\n",
    "\n",
    "# Instalar o pacote randomForest (caso ainda não esteja instalado)\n",
    "install.packages(\"randomForest\")\n",
    "\n",
    "# Carregar o pacote randomForest\n",
    "library(randomForest)\n",
    "\n",
    "# Criar o modelo Random Forest\n",
    "modelo_rf <- randomForest(X_treino, y_treino)\n",
    "\n",
    "# Fazer previsões para os dados de validação\n",
    "previsoes_validacao <- predict(modelo_rf, X_validacao)\n",
    "\n",
    "# Usando a função para avaliar e prever\n",
    "avaliar_e_prever(modelo_rf)"
   ]
  },
  {
   "cell_type": "code",
   "execution_count": 34,
   "metadata": {
    "executionInfo": {
     "elapsed": 28,
     "status": "ok",
     "timestamp": 1691520294963,
     "user": {
      "displayName": "Otacílio José Oliveira Fonseca",
      "userId": "11821168323875409957"
     },
     "user_tz": 180
    },
    "id": "rVba52VBWqE5"
   },
   "outputs": [],
   "source": [
    "# Salvar o modelo em um arquivo\n",
    "saveRDS(modelo_rf, \"modelo_rf.rds\")"
   ]
  },
  {
   "cell_type": "markdown",
   "metadata": {
    "executionInfo": {
     "elapsed": 63,
     "status": "ok",
     "timestamp": 1691505515953,
     "user": {
      "displayName": "Otacílio José Oliveira Fonseca",
      "userId": "11821168323875409957"
     },
     "user_tz": 180
    },
    "id": "zWd2iE6KlMz8"
   },
   "source": [
    "### Análise das métricas:\n",
    "\n",
    "- R² (Coeficiente de Determinação): O valor de R² é 0.8453, o que indica que o modelo explica cerca de 84.53% da variabilidade presente nos dados de validação. Isso é uma boa indicação de que o modelo está capturando uma parte significativa da variação dos preços.\n",
    "\n",
    "- MAE (Erro Médio Absoluto): O MAE é 66402.9269, o que significa que, em média, as previsões do modelo têm um desvio absoluto de aproximadamente 66402.93 unidades da variável alvo (preços).\n",
    "\n",
    "- MSE (Erro Quadrático Médio): O MSE é 7604577352.5411, que é o quadrado médio dos erros entre as previsões do modelo e os valores reais. Quanto menor o MSE, melhor o modelo se ajusta aos dados. Neste caso, o valor é alto, o que indica que os erros podem ser relativamente grandes.\n",
    "\n",
    "- RMSE (Raiz do Erro Quadrático Médio): O RMSE é 87204.2278, que é a raiz quadrada do MSE. Ele fornece uma medida da dispersão dos erros em relação à escala dos preços reais.\n",
    "\n",
    "##### Quanto à previsão específica:\n",
    "\n",
    "- O modelo fez uma previsão de preço de R$ 491200 para um dado de entrada específico. Isso é o valor previsto para esse caso particular, com base nas características fornecidas ao modelo."
   ]
  },
  {
   "cell_type": "markdown",
   "metadata": {
    "id": "TLfwFC_CWEg9"
   },
   "source": [
    "# Implementação do modelo para previsões em tempo real e criação de uma interface de usuário"
   ]
  },
  {
   "cell_type": "code",
   "execution_count": 35,
   "metadata": {
    "colab": {
     "base_uri": "https://localhost:8080/",
     "height": 185
    },
    "executionInfo": {
     "elapsed": 312,
     "status": "ok",
     "timestamp": 1691520295250,
     "user": {
      "displayName": "Otacílio José Oliveira Fonseca",
      "userId": "11821168323875409957"
     },
     "user_tz": 180
    },
    "id": "1UUH1mEAZM5g",
    "outputId": "1be4d64f-1e9c-4656-e490-b9af7b4af396"
   },
   "outputs": [
    {
     "data": {
      "text/html": [
       "<label for=\"area\">Área:</label><br><input type=\"number\" id=\"area\" value=\"65\"><br>"
      ]
     },
     "metadata": {},
     "output_type": "display_data"
    },
    {
     "data": {
      "text/html": [
       "<label for=\"quartos\">Quartos:</label><br><input type=\"number\" id=\"quartos\" value=\"2\"><br>"
      ]
     },
     "metadata": {},
     "output_type": "display_data"
    },
    {
     "data": {
      "text/html": [
       "<label for=\"banheiros\">Banheiros:</label><br><input type=\"number\" id=\"banheiros\" value=\"2\"><br>"
      ]
     },
     "metadata": {},
     "output_type": "display_data"
    },
    {
     "data": {
      "text/html": [
       "<label for=\"garagem\">Garagem:</label><br><input type=\"number\" id=\"garagem\" value=\"1\"><br>"
      ]
     },
     "metadata": {},
     "output_type": "display_data"
    },
    {
     "data": {
      "text/html": [
       "<button id=\"botao_prever\">Fazer Previsão</button><br>"
      ]
     },
     "metadata": {},
     "output_type": "display_data"
    },
    {
     "data": {
      "text/html": [
       "<div id=\"resultado\"></div>"
      ]
     },
     "metadata": {},
     "output_type": "display_data"
    },
    {
     "data": {
      "application/javascript": [
       "\n",
       "<script>\n",
       "function display_previsao() {\n",
       "  var area = parseFloat(document.getElementById(\"area\").value);\n",
       "  var quartos = parseFloat(document.getElementById(\"quartos\").value);\n",
       "  var banheiros = parseFloat(document.getElementById(\"banheiros\").value);\n",
       "  var garagem = parseFloat(document.getElementById(\"garagem\").value);\n",
       "\n",
       "  var novos_dados = [{\"area\": area, \"quartos\": quartos, \"banheiros\": banheiros, \"garagem\": garagem}];\n",
       "  var previsao = novos_dados.map(function(d) {\n",
       "    return JSON.parse(Jupyter.notebook.kernel.execute('previsao <- predict(modelo_rf, data.frame(area = ' + d.area + ', quartos = ' + d.quartos + ', banheiros = ' + d.banheiros + ', garagem = ' + d.garagem + '))')['content']['text/plain']);\n",
       "  });\n",
       "\n",
       "  var resultado_div = document.getElementById(\"resultado\");\n",
       "  resultado_div.innerHTML = \"Previsão: \" + previsao;\n",
       "}\n",
       "\n",
       "document.getElementById(\"botao_prever\").addEventListener(\"click\", display_previsao);\n",
       "</script>\n"
      ]
     },
     "metadata": {},
     "output_type": "display_data"
    }
   ],
   "source": [
    "library(IRdisplay)\n",
    "\n",
    "# Carregar o modelo treinado\n",
    "modelo_rf <- readRDS(\"modelo_rf.rds\")\n",
    "\n",
    "# Criar widgets interativos\n",
    "widget_area <- display_html('<label for=\"area\">Área:</label><br><input type=\"number\" id=\"area\" value=\"65\"><br>')\n",
    "widget_quartos <- display_html('<label for=\"quartos\">Quartos:</label><br><input type=\"number\" id=\"quartos\" value=\"2\"><br>')\n",
    "widget_banheiros <- display_html('<label for=\"banheiros\">Banheiros:</label><br><input type=\"number\" id=\"banheiros\" value=\"2\"><br>')\n",
    "widget_garagem <- display_html('<label for=\"garagem\">Garagem:</label><br><input type=\"number\" id=\"garagem\" value=\"1\"><br>')\n",
    "\n",
    "botao_prever <- display_html('<button id=\"botao_prever\">Fazer Previsão</button><br>')\n",
    "output_resultado <- display_html('<div id=\"resultado\"></div>')\n",
    "\n",
    "# Adicionar função JavaScript para fazer previsões\n",
    "javascript_code <- '\n",
    "<script>\n",
    "function display_previsao() {\n",
    "  var area = parseFloat(document.getElementById(\"area\").value);\n",
    "  var quartos = parseFloat(document.getElementById(\"quartos\").value);\n",
    "  var banheiros = parseFloat(document.getElementById(\"banheiros\").value);\n",
    "  var garagem = parseFloat(document.getElementById(\"garagem\").value);\n",
    "\n",
    "  var novos_dados = [{\"area\": area, \"quartos\": quartos, \"banheiros\": banheiros, \"garagem\": garagem}];\n",
    "  var previsao = novos_dados.map(function(d) {\n",
    "    return JSON.parse(Jupyter.notebook.kernel.execute(\\'previsao <- predict(modelo_rf, data.frame(area = \\' + d.area + \\', quartos = \\' + d.quartos + \\', banheiros = \\' + d.banheiros + \\', garagem = \\' + d.garagem + \\'))\\')[\\'content\\'][\\'text/plain\\']);\n",
    "  });\n",
    "\n",
    "  var resultado_div = document.getElementById(\"resultado\");\n",
    "  resultado_div.innerHTML = \"Previsão: \" + previsao;\n",
    "}\n",
    "\n",
    "document.getElementById(\"botao_prever\").addEventListener(\"click\", display_previsao);\n",
    "</script>\n",
    "'\n",
    "\n",
    "# Exibir widgets e código JavaScript\n",
    "display_html(widget_area)\n",
    "display_html(widget_quartos)\n",
    "display_html(widget_banheiros)\n",
    "display_html(widget_garagem)\n",
    "display_html(botao_prever)\n",
    "display_html(output_resultado)\n",
    "display_javascript(javascript_code)"
   ]
  }
 ],
 "metadata": {
  "colab": {
   "provenance": []
  },
  "kernelspec": {
   "display_name": "Python 3 (ipykernel)",
   "language": "python",
   "name": "python3"
  },
  "language_info": {
   "codemirror_mode": {
    "name": "ipython",
    "version": 3
   },
   "file_extension": ".py",
   "mimetype": "text/x-python",
   "name": "python",
   "nbconvert_exporter": "python",
   "pygments_lexer": "ipython3",
   "version": "3.11.4"
  }
 },
 "nbformat": 4,
 "nbformat_minor": 1
}
